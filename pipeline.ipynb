{
 "cells": [
  {
   "cell_type": "code",
   "execution_count": 1,
   "outputs": [],
   "source": [
    "import pandas as pd  # For displaying the data after\n",
    "import matplotlib.pyplot as plt  # for plotting data\n",
    "from src.twitter_util import TwitterApiGetter\n",
    "from src.persistance_util import export_container_to_csv\n",
    "from config import PANDEMICS_WORDS"
   ],
   "metadata": {
    "collapsed": false,
    "pycharm": {
     "name": "#%%\n"
    }
   }
  },
  {
   "cell_type": "code",
   "execution_count": 2,
   "outputs": [
    {
     "name": "stdout",
     "output_type": "stream",
     "text": [
      "INFO: 14/14 Twitter accounts of ministers with Twitter handles fetched.\n"
     ]
    }
   ],
   "source": [
    "twg = TwitterApiGetter()\n",
    "minister_bios = twg.get_all_minister_twitter_bios(\n",
    "    custom_user_fields=[\n",
    "        \"created_at\",\n",
    "        \"description\",\n",
    "        \"id\",\n",
    "        \"location\",\n",
    "        \"name\",\n",
    "        \"public_metrics\",\n",
    "        \"url\",\n",
    "        \"username\",\n",
    "        \"verified\",\n",
    "    ],\n",
    ")\n",
    "export_container_to_csv(container=minister_bios, path=\"data/minister_bios.csv\")"
   ],
   "metadata": {
    "collapsed": false,
    "pycharm": {
     "name": "#%%\n"
    }
   }
  },
  {
   "cell_type": "code",
   "execution_count": 3,
   "outputs": [
    {
     "data": {
      "text/plain": "                          location                created_at          id  \\\n0              Berlin, Deutschland  2009-05-06T10:08:02.000Z    38150247   \n1  Schillerstraße 11a, 55116 Mainz  2009-02-11T14:34:58.000Z    20593301   \n2              Berlin, Deutschland  2010-03-11T16:11:51.000Z   122104353   \n3              Berlin, Deutschland  2015-05-21T14:01:21.000Z  3292982985   \n4                              NaN  2013-11-07T00:04:11.000Z  2179010672   \n\n                       url                                        description  \\\n0  https://t.co/pDZ6VOLHnA                Hier twittert das Team Olaf Scholz.   \n1  https://t.co/QyGCyDDccr  Bundesminister für Digitales und Verkehr, Vors...   \n2  https://t.co/mJgVJTabCr  Bundesminister der Finanzen. Bundesvorsitzende...   \n3  https://t.co/aNTUPwOxBp  SPD Bundestagsabgeordneter, Bundesgesundheitsm...   \n4  https://t.co/NnwHzin72J  Dies ist ein Archiv des Twitter-Accounts von A...   \n\n   verified                        name         username  followers_count  \\\n0      True                 Olaf Scholz       OlafScholz           353900   \n1      True              Volker Wissing          Wissing            31495   \n2      True           Christian Lindner        c_lindner           551246   \n3      True       Prof. Karl Lauterbach  Karl_Lauterbach           838295   \n4      True  Annalena Baerbock (Archiv)  ABaerbockArchiv           423234   \n\n   following_count  tweet_count  listed_count   party  \n0             1438         6487          2005     spd  \n1              998        13165           624     fdp  \n2             1371        17693          2415     fdp  \n3              296         9580          2853     spd  \n4             1466         4489          1505  gruene  ",
      "text/html": "<div>\n<style scoped>\n    .dataframe tbody tr th:only-of-type {\n        vertical-align: middle;\n    }\n\n    .dataframe tbody tr th {\n        vertical-align: top;\n    }\n\n    .dataframe thead th {\n        text-align: right;\n    }\n</style>\n<table border=\"1\" class=\"dataframe\">\n  <thead>\n    <tr style=\"text-align: right;\">\n      <th></th>\n      <th>location</th>\n      <th>created_at</th>\n      <th>id</th>\n      <th>url</th>\n      <th>description</th>\n      <th>verified</th>\n      <th>name</th>\n      <th>username</th>\n      <th>followers_count</th>\n      <th>following_count</th>\n      <th>tweet_count</th>\n      <th>listed_count</th>\n      <th>party</th>\n    </tr>\n  </thead>\n  <tbody>\n    <tr>\n      <th>0</th>\n      <td>Berlin, Deutschland</td>\n      <td>2009-05-06T10:08:02.000Z</td>\n      <td>38150247</td>\n      <td>https://t.co/pDZ6VOLHnA</td>\n      <td>Hier twittert das Team Olaf Scholz.</td>\n      <td>True</td>\n      <td>Olaf Scholz</td>\n      <td>OlafScholz</td>\n      <td>353900</td>\n      <td>1438</td>\n      <td>6487</td>\n      <td>2005</td>\n      <td>spd</td>\n    </tr>\n    <tr>\n      <th>1</th>\n      <td>Schillerstraße 11a, 55116 Mainz</td>\n      <td>2009-02-11T14:34:58.000Z</td>\n      <td>20593301</td>\n      <td>https://t.co/QyGCyDDccr</td>\n      <td>Bundesminister für Digitales und Verkehr, Vors...</td>\n      <td>True</td>\n      <td>Volker Wissing</td>\n      <td>Wissing</td>\n      <td>31495</td>\n      <td>998</td>\n      <td>13165</td>\n      <td>624</td>\n      <td>fdp</td>\n    </tr>\n    <tr>\n      <th>2</th>\n      <td>Berlin, Deutschland</td>\n      <td>2010-03-11T16:11:51.000Z</td>\n      <td>122104353</td>\n      <td>https://t.co/mJgVJTabCr</td>\n      <td>Bundesminister der Finanzen. Bundesvorsitzende...</td>\n      <td>True</td>\n      <td>Christian Lindner</td>\n      <td>c_lindner</td>\n      <td>551246</td>\n      <td>1371</td>\n      <td>17693</td>\n      <td>2415</td>\n      <td>fdp</td>\n    </tr>\n    <tr>\n      <th>3</th>\n      <td>Berlin, Deutschland</td>\n      <td>2015-05-21T14:01:21.000Z</td>\n      <td>3292982985</td>\n      <td>https://t.co/aNTUPwOxBp</td>\n      <td>SPD Bundestagsabgeordneter, Bundesgesundheitsm...</td>\n      <td>True</td>\n      <td>Prof. Karl Lauterbach</td>\n      <td>Karl_Lauterbach</td>\n      <td>838295</td>\n      <td>296</td>\n      <td>9580</td>\n      <td>2853</td>\n      <td>spd</td>\n    </tr>\n    <tr>\n      <th>4</th>\n      <td>NaN</td>\n      <td>2013-11-07T00:04:11.000Z</td>\n      <td>2179010672</td>\n      <td>https://t.co/NnwHzin72J</td>\n      <td>Dies ist ein Archiv des Twitter-Accounts von A...</td>\n      <td>True</td>\n      <td>Annalena Baerbock (Archiv)</td>\n      <td>ABaerbockArchiv</td>\n      <td>423234</td>\n      <td>1466</td>\n      <td>4489</td>\n      <td>1505</td>\n      <td>gruene</td>\n    </tr>\n  </tbody>\n</table>\n</div>"
     },
     "execution_count": 3,
     "metadata": {},
     "output_type": "execute_result"
    }
   ],
   "source": [
    "minister_df = pd.read_csv(\"data/minister_bios.csv\")\n",
    "minister_df.head()"
   ],
   "metadata": {
    "collapsed": false,
    "pycharm": {
     "name": "#%%\n"
    }
   }
  },
  {
   "cell_type": "code",
   "execution_count": 4,
   "outputs": [
    {
     "data": {
      "text/plain": "<Figure size 432x288 with 2 Axes>",
      "image/png": "[encoded data removed]"
     },
     "metadata": {
      "needs_background": "light"
     },
     "output_type": "display_data"
    }
   ],
   "source": [
    "# Some visualization\n",
    "tweet_ratio_plt = minister_df.plot(\n",
    "    kind=\"bar\",\n",
    "    x=\"name\",\n",
    "    y=[\"followers_count\", \"tweet_count\"],\n",
    "    secondary_y=\"tweet_count\",\n",
    ")\n",
    "tweet_ratio_plt.set_title(\n",
    "    \"Tweets vs Followers for German Ministers of the Traffic Light Coalition\"\n",
    ")\n",
    "tweet_ratio_plt.set_xlabel(\"Minister Names\")\n",
    "plt.show()"
   ],
   "metadata": {
    "collapsed": false,
    "pycharm": {
     "name": "#%%\n"
    }
   }
  },
  {
   "cell_type": "code",
   "execution_count": 5,
   "outputs": [
    {
     "name": "stderr",
     "output_type": "stream",
     "text": [
      "/var/folders/n6/gc1kg4891tzd041w9shtbb_c0000gn/T/ipykernel_65095/2881319713.py:2: FutureWarning: Indexing with multiple keys (implicitly converted to a tuple of keys) will be deprecated, use a list instead.\n",
      "  minister_df.groupby(by=[\"party\"])[\"followers_count\", \"tweet_count\"]\n"
     ]
    },
    {
     "data": {
      "text/plain": "        followers_count   tweet_count\nparty                                \ngruene    252113.333333  10122.666667\nspd       204616.000000   6656.000000\nfdp       161096.500000  13781.000000",
      "text/html": "<div>\n<style scoped>\n    .dataframe tbody tr th:only-of-type {\n        vertical-align: middle;\n    }\n\n    .dataframe tbody tr th {\n        vertical-align: top;\n    }\n\n    .dataframe thead th {\n        text-align: right;\n    }\n</style>\n<table border=\"1\" class=\"dataframe\">\n  <thead>\n    <tr style=\"text-align: right;\">\n      <th></th>\n      <th>followers_count</th>\n      <th>tweet_count</th>\n    </tr>\n    <tr>\n      <th>party</th>\n      <th></th>\n      <th></th>\n    </tr>\n  </thead>\n  <tbody>\n    <tr>\n      <th>gruene</th>\n      <td>252113.333333</td>\n      <td>10122.666667</td>\n    </tr>\n    <tr>\n      <th>spd</th>\n      <td>204616.000000</td>\n      <td>6656.000000</td>\n    </tr>\n    <tr>\n      <th>fdp</th>\n      <td>161096.500000</td>\n      <td>13781.000000</td>\n    </tr>\n  </tbody>\n</table>\n</div>"
     },
     "execution_count": 5,
     "metadata": {},
     "output_type": "execute_result"
    }
   ],
   "source": [
    "party_stats_df = (\n",
    "    minister_df.groupby(by=[\"party\"])[\"followers_count\", \"tweet_count\"]\n",
    "    .mean()\n",
    "    .sort_values(by=[\"followers_count\", \"tweet_count\"], ascending=[False, True])\n",
    ")\n",
    "party_stats_df"
   ],
   "metadata": {
    "collapsed": false,
    "pycharm": {
     "name": "#%%\n"
    }
   }
  },
  {
   "cell_type": "code",
   "execution_count": 6,
   "outputs": [
    {
     "data": {
      "text/plain": "<Figure size 432x288 with 2 Axes>",
      "image/png": "[encoded data removed]"
     },
     "metadata": {
      "needs_background": "light"
     },
     "output_type": "display_data"
    }
   ],
   "source": [
    "party_stats_plt = party_stats_df.plot(\n",
    "    kind=\"bar\", y=[\"followers_count\", \"tweet_count\"], secondary_y=\"tweet_count\"\n",
    ")\n",
    "party_stats_plt.set_title(\"Average Tweets and Followers per Party\")\n",
    "party_stats_plt.set_xlabel(\"Parties in Traffic Light Coalition\")\n",
    "plt.show()"
   ],
   "metadata": {
    "collapsed": false,
    "pycharm": {
     "name": "#%%\n"
    }
   }
  },
  {
   "cell_type": "code",
   "execution_count": 7,
   "outputs": [
    {
     "name": "stdout",
     "output_type": "stream",
     "text": [
      "INFO [user Olaf Scholz ✅]: Fetched 100 tweets.\n",
      "INFO [user Olaf Scholz ✅]: Fetched 100 tweets.\n",
      "INFO [user Olaf Scholz ✅]: Fetched 100 tweets.\n",
      "INFO [user Olaf Scholz ✅]: Fetched 100 tweets.\n",
      "INFO [user Olaf Scholz ✅]: Fetched 100 tweets.\n",
      "INFO [user Olaf Scholz ✅]: Fetched 100 tweets.\n",
      "INFO [user Olaf Scholz ✅]: Fetched 100 tweets.\n",
      "INFO [user Olaf Scholz ✅]: Fetched 100 tweets.\n",
      "INFO [user Olaf Scholz ✅]: Fetched 100 tweets.\n",
      "INFO [user Olaf Scholz ✅]: Fetched 100 tweets.\n",
      "INFO [user Olaf Scholz ✅]: Fetched 100 tweets.\n",
      "INFO [user Olaf Scholz ✅]: Fetched 100 tweets.\n",
      "INFO [user Olaf Scholz ✅]: Fetched 100 tweets.\n",
      "INFO [user Olaf Scholz ✅]: Fetched 100 tweets.\n",
      "INFO [user Olaf Scholz ✅]: Fetched 100 tweets.\n",
      "INFO [user Olaf Scholz ✅]: Fetched 100 tweets.\n",
      "INFO [user Olaf Scholz ✅]: Fetched 100 tweets.\n",
      "INFO [user Olaf Scholz ✅]: Fetched 100 tweets.\n",
      "INFO [user Olaf Scholz ✅]: Fetched 100 tweets.\n",
      "INFO [user Olaf Scholz ✅]: Fetched 38 tweets.\n",
      "INFO [user Olaf Scholz ✋]: No next_token in response to further fetch data.\n",
      "INFO [user Volker Wissing ✅]: Fetched 100 tweets.\n",
      "INFO [user Volker Wissing ✅]: Fetched 100 tweets.\n",
      "INFO [user Volker Wissing ✅]: Fetched 100 tweets.\n",
      "INFO [user Volker Wissing ✅]: Fetched 100 tweets.\n",
      "INFO [user Volker Wissing ✅]: Fetched 100 tweets.\n",
      "INFO [user Volker Wissing ✅]: Fetched 100 tweets.\n",
      "INFO [user Volker Wissing ✅]: Fetched 100 tweets.\n",
      "INFO [user Volker Wissing ✅]: Fetched 100 tweets.\n",
      "INFO [user Volker Wissing ✅]: Fetched 100 tweets.\n",
      "INFO [user Volker Wissing ✅]: Fetched 100 tweets.\n",
      "INFO [user Volker Wissing ✅]: Fetched 100 tweets.\n",
      "INFO [user Volker Wissing ✅]: Fetched 100 tweets.\n",
      "INFO [user Volker Wissing ✅]: Fetched 100 tweets.\n",
      "INFO [user Volker Wissing ✅]: Fetched 100 tweets.\n",
      "INFO [user Volker Wissing ✅]: Fetched 79 tweets.\n",
      "INFO [user Volker Wissing ✋]: No next_token in response to further fetch data.\n",
      "INFO [user Christian Lindner ✅]: Fetched 100 tweets.\n",
      "INFO [user Christian Lindner ✅]: Fetched 100 tweets.\n",
      "INFO [user Christian Lindner ✅]: Fetched 100 tweets.\n",
      "INFO [user Christian Lindner ✅]: Fetched 100 tweets.\n",
      "INFO [user Christian Lindner ✅]: Fetched 100 tweets.\n",
      "INFO [user Christian Lindner ✅]: Fetched 100 tweets.\n",
      "INFO [user Christian Lindner ✅]: Fetched 100 tweets.\n",
      "INFO [user Christian Lindner ✅]: Fetched 100 tweets.\n",
      "INFO [user Christian Lindner ✅]: Fetched 100 tweets.\n",
      "INFO [user Christian Lindner ✅]: Fetched 100 tweets.\n",
      "INFO [user Christian Lindner ✅]: Fetched 100 tweets.\n",
      "INFO [user Christian Lindner ✅]: Fetched 100 tweets.\n",
      "INFO [user Christian Lindner ✅]: Fetched 100 tweets.\n",
      "INFO [user Christian Lindner ✅]: Fetched 100 tweets.\n",
      "INFO [user Christian Lindner ✅]: Fetched 100 tweets.\n",
      "INFO [user Christian Lindner ✅]: Fetched 100 tweets.\n",
      "INFO [user Christian Lindner ✅]: Fetched 100 tweets.\n",
      "INFO [user Christian Lindner ✅]: Fetched 100 tweets.\n",
      "INFO [user Christian Lindner ✅]: Fetched 100 tweets.\n",
      "INFO [user Christian Lindner ✅]: Fetched 100 tweets.\n",
      "INFO [user Christian Lindner ✅]: Fetched 99 tweets.\n",
      "INFO [user Christian Lindner ✅]: Fetched 100 tweets.\n",
      "INFO [user Christian Lindner ✅]: Fetched 100 tweets.\n",
      "INFO [user Christian Lindner ✅]: Fetched 100 tweets.\n",
      "INFO [user Christian Lindner ✅]: Fetched 100 tweets.\n",
      "INFO [user Christian Lindner ✅]: Fetched 100 tweets.\n",
      "INFO [user Christian Lindner ✅]: Fetched 100 tweets.\n",
      "INFO [user Christian Lindner ✅]: Fetched 72 tweets.\n",
      "INFO [user Christian Lindner ✋]: No next_token in response to further fetch data.\n",
      "INFO [user Prof. Karl Lauterbach ✅]: Fetched 100 tweets.\n",
      "INFO [user Prof. Karl Lauterbach ✅]: Fetched 100 tweets.\n",
      "INFO [user Prof. Karl Lauterbach ✅]: Fetched 100 tweets.\n",
      "INFO [user Prof. Karl Lauterbach ✅]: Fetched 100 tweets.\n",
      "INFO [user Prof. Karl Lauterbach ✅]: Fetched 100 tweets.\n",
      "INFO [user Prof. Karl Lauterbach ✅]: Fetched 100 tweets.\n",
      "INFO [user Prof. Karl Lauterbach ✅]: Fetched 100 tweets.\n",
      "INFO [user Prof. Karl Lauterbach ✅]: Fetched 100 tweets.\n",
      "INFO [user Prof. Karl Lauterbach ✅]: Fetched 100 tweets.\n",
      "INFO [user Prof. Karl Lauterbach ✅]: Fetched 100 tweets.\n",
      "INFO [user Prof. Karl Lauterbach ✅]: Fetched 100 tweets.\n",
      "INFO [user Prof. Karl Lauterbach ✅]: Fetched 100 tweets.\n",
      "INFO [user Prof. Karl Lauterbach ✅]: Fetched 100 tweets.\n",
      "INFO [user Prof. Karl Lauterbach ✅]: Fetched 100 tweets.\n",
      "INFO [user Prof. Karl Lauterbach ✅]: Fetched 100 tweets.\n",
      "INFO [user Prof. Karl Lauterbach ✅]: Fetched 100 tweets.\n",
      "INFO [user Prof. Karl Lauterbach ✅]: Fetched 100 tweets.\n",
      "INFO [user Prof. Karl Lauterbach ✅]: Fetched 100 tweets.\n",
      "INFO [user Prof. Karl Lauterbach ✅]: Fetched 100 tweets.\n",
      "INFO [user Prof. Karl Lauterbach ✅]: Fetched 100 tweets.\n",
      "INFO [user Prof. Karl Lauterbach ✅]: Fetched 100 tweets.\n",
      "INFO [user Prof. Karl Lauterbach ✅]: Fetched 100 tweets.\n",
      "INFO [user Prof. Karl Lauterbach ✅]: Fetched 100 tweets.\n",
      "INFO [user Prof. Karl Lauterbach ✅]: Fetched 100 tweets.\n",
      "INFO [user Prof. Karl Lauterbach ✅]: Fetched 100 tweets.\n",
      "INFO [user Prof. Karl Lauterbach ✅]: Fetched 100 tweets.\n",
      "INFO [user Prof. Karl Lauterbach ✅]: Fetched 100 tweets.\n",
      "INFO [user Prof. Karl Lauterbach ✅]: Fetched 100 tweets.\n",
      "INFO [user Prof. Karl Lauterbach ✅]: Fetched 100 tweets.\n",
      "INFO [user Prof. Karl Lauterbach ✅]: Fetched 100 tweets.\n",
      "INFO [user Prof. Karl Lauterbach ✅]: Fetched 100 tweets.\n",
      "INFO [user Prof. Karl Lauterbach ✅]: Fetched 100 tweets.\n",
      "INFO [user Prof. Karl Lauterbach ✅]: Fetched 50 tweets.\n",
      "INFO [user Prof. Karl Lauterbach ✋]: No next_token in response to further fetch data.\n",
      "INFO [user Annalena Baerbock (Archiv) ✅]: Fetched 100 tweets.\n",
      "INFO [user Annalena Baerbock (Archiv) ✅]: Fetched 100 tweets.\n",
      "INFO [user Annalena Baerbock (Archiv) ✅]: Fetched 100 tweets.\n",
      "INFO [user Annalena Baerbock (Archiv) ✅]: Fetched 100 tweets.\n",
      "INFO [user Annalena Baerbock (Archiv) ✅]: Fetched 100 tweets.\n",
      "INFO [user Annalena Baerbock (Archiv) ✅]: Fetched 100 tweets.\n",
      "INFO [user Annalena Baerbock (Archiv) ✅]: Fetched 99 tweets.\n",
      "INFO [user Annalena Baerbock (Archiv) ✅]: Fetched 100 tweets.\n",
      "INFO [user Annalena Baerbock (Archiv) ✅]: Fetched 100 tweets.\n",
      "INFO [user Annalena Baerbock (Archiv) ✅]: Fetched 100 tweets.\n",
      "INFO [user Annalena Baerbock (Archiv) ✅]: Fetched 100 tweets.\n",
      "INFO [user Annalena Baerbock (Archiv) ✅]: Fetched 100 tweets.\n",
      "INFO [user Annalena Baerbock (Archiv) ✅]: Fetched 100 tweets.\n",
      "INFO [user Annalena Baerbock (Archiv) ✅]: Fetched 74 tweets.\n",
      "INFO [user Annalena Baerbock (Archiv) ✋]: No next_token in response to further fetch data.\n",
      "INFO [user Nancy Faeser ✅]: Fetched 100 tweets.\n",
      "INFO [user Nancy Faeser ✅]: Fetched 100 tweets.\n",
      "INFO [user Nancy Faeser ✅]: Fetched 100 tweets.\n",
      "INFO [user Nancy Faeser ✅]: Fetched 100 tweets.\n",
      "INFO [user Nancy Faeser ✅]: Fetched 100 tweets.\n",
      "INFO [user Nancy Faeser ✅]: Fetched 100 tweets.\n",
      "INFO [user Nancy Faeser ✅]: Fetched 58 tweets.\n",
      "INFO [user Nancy Faeser ✋]: No next_token in response to further fetch data.\n",
      "INFO [user Marco Buschmann ✅]: Fetched 100 tweets.\n",
      "INFO [user Marco Buschmann ✅]: Fetched 100 tweets.\n",
      "INFO [user Marco Buschmann ✅]: Fetched 100 tweets.\n",
      "INFO [user Marco Buschmann ✅]: Fetched 100 tweets.\n",
      "INFO [user Marco Buschmann ✅]: Fetched 100 tweets.\n",
      "INFO [user Marco Buschmann ✅]: Fetched 100 tweets.\n",
      "INFO [user Marco Buschmann ✅]: Fetched 100 tweets.\n",
      "INFO [user Marco Buschmann ✅]: Fetched 100 tweets.\n",
      "INFO [user Marco Buschmann ✅]: Fetched 100 tweets.\n",
      "INFO [user Marco Buschmann ✅]: Fetched 100 tweets.\n",
      "INFO [user Marco Buschmann ✅]: Fetched 100 tweets.\n",
      "INFO [user Marco Buschmann ✅]: Fetched 100 tweets.\n",
      "INFO [user Marco Buschmann ✅]: Fetched 100 tweets.\n",
      "INFO [user Marco Buschmann ✅]: Fetched 100 tweets.\n",
      "INFO [user Marco Buschmann ✅]: Fetched 100 tweets.\n",
      "INFO [user Marco Buschmann ✅]: Fetched 100 tweets.\n",
      "INFO [user Marco Buschmann ✅]: Fetched 100 tweets.\n",
      "INFO [user Marco Buschmann ✅]: Fetched 100 tweets.\n",
      "INFO [user Marco Buschmann ✅]: Fetched 100 tweets.\n",
      "INFO [user Marco Buschmann ✅]: Fetched 100 tweets.\n",
      "INFO [user Marco Buschmann ✅]: Fetched 100 tweets.\n",
      "INFO [user Marco Buschmann ✅]: Fetched 100 tweets.\n",
      "INFO [user Marco Buschmann ✅]: Fetched 100 tweets.\n",
      "INFO [user Marco Buschmann ✅]: Fetched 100 tweets.\n",
      "INFO [user Marco Buschmann ✅]: Fetched 100 tweets.\n",
      "INFO [user Marco Buschmann ✅]: Fetched 100 tweets.\n",
      "INFO [user Marco Buschmann ✅]: Fetched 100 tweets.\n",
      "INFO [user Marco Buschmann ✅]: Fetched 100 tweets.\n",
      "INFO [user Marco Buschmann ✅]: Fetched 100 tweets.\n",
      "INFO [user Marco Buschmann ✅]: Fetched 100 tweets.\n",
      "INFO [user Marco Buschmann ✅]: Fetched 100 tweets.\n",
      "INFO [user Marco Buschmann ✅]: Fetched 100 tweets.\n",
      "INFO [user Marco Buschmann ✅]: Fetched 50 tweets.\n",
      "INFO [user Marco Buschmann ✋]: No next_token in response to further fetch data.\n",
      "INFO [user Hubertus Heil ✅]: Fetched 100 tweets.\n",
      "INFO [user Hubertus Heil ✅]: Fetched 100 tweets.\n",
      "INFO [user Hubertus Heil ✅]: Fetched 100 tweets.\n",
      "INFO [user Hubertus Heil ✅]: Fetched 100 tweets.\n",
      "INFO [user Hubertus Heil ✅]: Fetched 100 tweets.\n",
      "INFO [user Hubertus Heil ✅]: Fetched 100 tweets.\n",
      "INFO [user Hubertus Heil ✅]: Fetched 100 tweets.\n",
      "INFO [user Hubertus Heil ✅]: Fetched 100 tweets.\n",
      "INFO [user Hubertus Heil ✅]: Fetched 100 tweets.\n",
      "INFO [user Hubertus Heil ✅]: Fetched 100 tweets.\n",
      "INFO [user Hubertus Heil ✅]: Fetched 100 tweets.\n",
      "INFO [user Hubertus Heil ✅]: Fetched 100 tweets.\n",
      "INFO [user Hubertus Heil ✅]: Fetched 100 tweets.\n",
      "INFO [user Hubertus Heil ✅]: Fetched 100 tweets.\n",
      "INFO [user Hubertus Heil ✅]: Fetched 100 tweets.\n",
      "INFO [user Hubertus Heil ✅]: Fetched 100 tweets.\n",
      "INFO [user Hubertus Heil ✅]: Fetched 100 tweets.\n",
      "INFO [user Hubertus Heil ✅]: Fetched 100 tweets.\n",
      "INFO [user Hubertus Heil ✅]: Fetched 100 tweets.\n",
      "INFO [user Hubertus Heil ✅]: Fetched 61 tweets.\n",
      "INFO [user Hubertus Heil ✋]: No next_token in response to further fetch data.\n",
      "INFO [user Cem Özdemir ✅]: Fetched 100 tweets.\n",
      "INFO [user Cem Özdemir ✅]: Fetched 100 tweets.\n",
      "INFO [user Cem Özdemir ✅]: Fetched 100 tweets.\n",
      "INFO [user Cem Özdemir ✅]: Fetched 100 tweets.\n",
      "INFO [user Cem Özdemir ✅]: Fetched 100 tweets.\n",
      "INFO [user Cem Özdemir ✅]: Fetched 100 tweets.\n",
      "INFO [user Cem Özdemir ✅]: Fetched 100 tweets.\n",
      "INFO [user Cem Özdemir ✅]: Fetched 100 tweets.\n",
      "INFO [user Cem Özdemir ✅]: Fetched 100 tweets.\n",
      "INFO [user Cem Özdemir ✅]: Fetched 100 tweets.\n",
      "INFO [user Cem Özdemir ✅]: Fetched 99 tweets.\n",
      "INFO [user Cem Özdemir ✅]: Fetched 100 tweets.\n",
      "INFO [user Cem Özdemir ✅]: Fetched 100 tweets.\n",
      "INFO [user Cem Özdemir ✅]: Fetched 100 tweets.\n",
      "INFO [user Cem Özdemir ✅]: Fetched 100 tweets.\n",
      "INFO [user Cem Özdemir ✅]: Fetched 100 tweets.\n",
      "INFO [user Cem Özdemir ✅]: Fetched 100 tweets.\n",
      "INFO [user Cem Özdemir ✅]: Fetched 100 tweets.\n",
      "INFO [user Cem Özdemir ✅]: Fetched 100 tweets.\n",
      "INFO [user Cem Özdemir ✅]: Fetched 99 tweets.\n",
      "INFO [user Cem Özdemir ✅]: Fetched 100 tweets.\n",
      "INFO [user Cem Özdemir ✅]: Fetched 100 tweets.\n",
      "INFO [user Cem Özdemir ✅]: Fetched 99 tweets.\n",
      "INFO [user Cem Özdemir ✅]: Fetched 99 tweets.\n",
      "INFO [user Cem Özdemir ✅]: Fetched 100 tweets.\n",
      "INFO [user Cem Özdemir ✅]: Fetched 100 tweets.\n",
      "INFO [user Cem Özdemir ✅]: Fetched 99 tweets.\n",
      "INFO [user Cem Özdemir ✅]: Fetched 99 tweets.\n",
      "INFO [user Cem Özdemir ✅]: Fetched 100 tweets.\n",
      "INFO [user Cem Özdemir ✅]: Fetched 100 tweets.\n",
      "INFO [user Cem Özdemir ✅]: Fetched 100 tweets.\n",
      "INFO [user Cem Özdemir ✅]: Fetched 100 tweets.\n",
      "INFO [user Cem Özdemir ✅]: Fetched 50 tweets.\n",
      "INFO [user Cem Özdemir ✋]: No next_token in response to further fetch data.\n",
      "INFO [user SteffiLemke ✅]: Fetched 100 tweets.\n",
      "INFO [user SteffiLemke ✅]: Fetched 100 tweets.\n",
      "INFO [user SteffiLemke ✅]: Fetched 100 tweets.\n",
      "INFO [user SteffiLemke ✅]: Fetched 100 tweets.\n",
      "INFO [user SteffiLemke ✅]: Fetched 100 tweets.\n",
      "INFO [user SteffiLemke ✅]: Fetched 100 tweets.\n",
      "INFO [user SteffiLemke ✅]: Fetched 100 tweets.\n",
      "INFO [user SteffiLemke ✅]: Fetched 100 tweets.\n",
      "INFO [user SteffiLemke ✅]: Fetched 100 tweets.\n",
      "INFO [user SteffiLemke ✅]: Fetched 100 tweets.\n",
      "INFO [user SteffiLemke ✅]: Fetched 100 tweets.\n",
      "INFO [user SteffiLemke ✅]: Fetched 100 tweets.\n",
      "INFO [user SteffiLemke ✅]: Fetched 100 tweets.\n",
      "INFO [user SteffiLemke ✅]: Fetched 80 tweets.\n",
      "INFO [user SteffiLemke ✋]: No next_token in response to further fetch data.\n",
      "INFO [user Bettina Stark-Watzinger ✅]: Fetched 100 tweets.\n",
      "INFO [user Bettina Stark-Watzinger ✅]: Fetched 100 tweets.\n",
      "INFO [user Bettina Stark-Watzinger ✅]: Fetched 99 tweets.\n",
      "INFO [user Bettina Stark-Watzinger ✅]: Fetched 100 tweets.\n",
      "INFO [user Bettina Stark-Watzinger ✅]: Fetched 100 tweets.\n",
      "INFO [user Bettina Stark-Watzinger ✅]: Fetched 100 tweets.\n",
      "INFO [user Bettina Stark-Watzinger ✅]: Fetched 100 tweets.\n",
      "INFO [user Bettina Stark-Watzinger ✅]: Fetched 100 tweets.\n",
      "INFO [user Bettina Stark-Watzinger ✅]: Fetched 100 tweets.\n",
      "INFO [user Bettina Stark-Watzinger ✅]: Fetched 100 tweets.\n",
      "INFO [user Bettina Stark-Watzinger ✅]: Fetched 100 tweets.\n",
      "INFO [user Bettina Stark-Watzinger ✅]: Fetched 100 tweets.\n",
      "INFO [user Bettina Stark-Watzinger ✅]: Fetched 100 tweets.\n",
      "INFO [user Bettina Stark-Watzinger ✅]: Fetched 100 tweets.\n",
      "INFO [user Bettina Stark-Watzinger ✅]: Fetched 100 tweets.\n",
      "INFO [user Bettina Stark-Watzinger ✅]: Fetched 100 tweets.\n",
      "INFO [user Bettina Stark-Watzinger ✅]: Fetched 100 tweets.\n",
      "INFO [user Bettina Stark-Watzinger ✅]: Fetched 29 tweets.\n",
      "INFO [user Bettina Stark-Watzinger ✋]: No next_token in response to further fetch data.\n",
      "INFO [user Svenja Schulze ✅]: Fetched 100 tweets.\n",
      "INFO [user Svenja Schulze ✅]: Fetched 100 tweets.\n",
      "INFO [user Svenja Schulze ✅]: Fetched 100 tweets.\n",
      "INFO [user Svenja Schulze ✅]: Fetched 100 tweets.\n",
      "INFO [user Svenja Schulze ✅]: Fetched 100 tweets.\n",
      "INFO [user Svenja Schulze ✅]: Fetched 100 tweets.\n",
      "INFO [user Svenja Schulze ✅]: Fetched 100 tweets.\n",
      "INFO [user Svenja Schulze ✅]: Fetched 100 tweets.\n",
      "INFO [user Svenja Schulze ✅]: Fetched 100 tweets.\n",
      "INFO [user Svenja Schulze ✅]: Fetched 100 tweets.\n",
      "INFO [user Svenja Schulze ✅]: Fetched 100 tweets.\n",
      "INFO [user Svenja Schulze ✅]: Fetched 91 tweets.\n",
      "INFO [user Svenja Schulze ✋]: No next_token in response to further fetch data.\n",
      "INFO [user Klara Geywitz ✅]: Fetched 100 tweets.\n",
      "INFO [user Klara Geywitz ✅]: Fetched 100 tweets.\n",
      "INFO [user Klara Geywitz ✅]: Fetched 100 tweets.\n",
      "INFO [user Klara Geywitz ✅]: Fetched 100 tweets.\n",
      "INFO [user Klara Geywitz ✅]: Fetched 100 tweets.\n",
      "INFO [user Klara Geywitz ✅]: Fetched 100 tweets.\n",
      "INFO [user Klara Geywitz ✅]: Fetched 100 tweets.\n",
      "INFO [user Klara Geywitz ✅]: Fetched 55 tweets.\n",
      "INFO [user Klara Geywitz ✋]: No next_token in response to further fetch data.\n",
      "INFO [user Wolfgang Schmidt ✅]: Fetched 100 tweets.\n",
      "INFO [user Wolfgang Schmidt ✅]: Fetched 100 tweets.\n",
      "INFO [user Wolfgang Schmidt ✅]: Fetched 100 tweets.\n",
      "INFO [user Wolfgang Schmidt ✅]: Fetched 100 tweets.\n",
      "INFO [user Wolfgang Schmidt ✅]: Fetched 100 tweets.\n",
      "INFO [user Wolfgang Schmidt ✅]: Fetched 100 tweets.\n",
      "INFO [user Wolfgang Schmidt ✅]: Fetched 100 tweets.\n",
      "INFO [user Wolfgang Schmidt ✅]: Fetched 100 tweets.\n",
      "INFO [user Wolfgang Schmidt ✅]: Fetched 100 tweets.\n",
      "INFO [user Wolfgang Schmidt ✅]: Fetched 100 tweets.\n",
      "INFO [user Wolfgang Schmidt ✅]: Fetched 98 tweets.\n",
      "INFO [user Wolfgang Schmidt ✅]: Fetched 100 tweets.\n",
      "INFO [user Wolfgang Schmidt ✅]: Fetched 100 tweets.\n",
      "INFO [user Wolfgang Schmidt ✅]: Fetched 100 tweets.\n",
      "INFO [user Wolfgang Schmidt ✅]: Fetched 100 tweets.\n",
      "INFO [user Wolfgang Schmidt ✅]: Fetched 100 tweets.\n",
      "INFO [user Wolfgang Schmidt ✅]: Fetched 100 tweets.\n",
      "INFO [user Wolfgang Schmidt ✅]: Fetched 100 tweets.\n",
      "INFO [user Wolfgang Schmidt ✅]: Fetched 100 tweets.\n",
      "INFO [user Wolfgang Schmidt ✅]: Fetched 100 tweets.\n",
      "INFO [user Wolfgang Schmidt ✅]: Fetched 100 tweets.\n",
      "INFO [user Wolfgang Schmidt ✅]: Fetched 100 tweets.\n",
      "INFO [user Wolfgang Schmidt ✅]: Fetched 100 tweets.\n",
      "INFO [user Wolfgang Schmidt ✅]: Fetched 100 tweets.\n",
      "INFO [user Wolfgang Schmidt ✅]: Fetched 100 tweets.\n",
      "INFO [user Wolfgang Schmidt ✅]: Fetched 100 tweets.\n",
      "INFO [user Wolfgang Schmidt ✅]: Fetched 100 tweets.\n",
      "INFO [user Wolfgang Schmidt ✅]: Fetched 100 tweets.\n",
      "INFO [user Wolfgang Schmidt ✅]: Fetched 99 tweets.\n",
      "INFO [user Wolfgang Schmidt ✅]: Fetched 100 tweets.\n",
      "INFO [user Wolfgang Schmidt ✅]: Fetched 100 tweets.\n",
      "INFO [user Wolfgang Schmidt ✅]: Fetched 100 tweets.\n",
      "INFO [user Wolfgang Schmidt ✅]: Fetched 50 tweets.\n",
      "INFO [user Wolfgang Schmidt ✋]: No next_token in response to further fetch data.\n",
      "fetched 28225 tweets in total.\n"
     ]
    }
   ],
   "source": [
    "all_tweets = []\n",
    "\n",
    "minister_twitter_identifiers = minister_df[[\"id\", \"name\"]].values.tolist()\n",
    "for user_id, user_name in minister_twitter_identifiers:\n",
    "    user_tweets = twg.fetch_user_tweets(user_id=user_id, user_name=user_name)\n",
    "    all_tweets.extend(user_tweets)\n",
    "\n",
    "print(f\"fetched {len(all_tweets)} tweets in total.\")\n",
    "export_container_to_csv(container=all_tweets, path=\"data/minister_tweets.csv\")"
   ],
   "metadata": {
    "collapsed": false,
    "pycharm": {
     "name": "#%%\n"
    }
   }
  },
  {
   "cell_type": "code",
   "execution_count": 8,
   "outputs": [
    {
     "name": "stdout",
     "output_type": "stream",
     "text": [
      "<class 'pandas.core.frame.DataFrame'>\n",
      "RangeIndex: 28225 entries, 0 to 28224\n",
      "Data columns (total 7 columns):\n",
      " #   Column          Non-Null Count  Dtype \n",
      "---  ------          --------------  ----- \n",
      " 0   id              28225 non-null  int64 \n",
      " 1   text            28225 non-null  object\n",
      " 2   created_at      28225 non-null  object\n",
      " 3   entities        19098 non-null  object\n",
      " 4   public_metrics  28225 non-null  object\n",
      " 5   user_id         28225 non-null  int64 \n",
      " 6   author          28225 non-null  object\n",
      "dtypes: int64(2), object(5)\n",
      "memory usage: 1.5+ MB\n"
     ]
    }
   ],
   "source": [
    "tweets_df = pd.read_csv(\"data/minister_tweets.csv\")\n",
    "tweets_df.info()"
   ],
   "metadata": {
    "collapsed": false,
    "pycharm": {
     "name": "#%%\n"
    }
   }
  },
  {
   "cell_type": "code",
   "execution_count": 9,
   "outputs": [
    {
     "data": {
      "text/plain": "0    RT @RegSprecher: Eine strenge, aber notwendige...\n1    RT @wbuechner: #Kanzler @OlafScholz dankte heu...\n2    RT @RegSprecher: Wir brechen auf in eine neue ...\n3    Abermals heißt es zu Weihnachten: Kontakte red...\n4    Mein Dank gilt dem #Expertenrat für die klare ...\n5    Die Beschränkungen für Ungeimpfte bleiben – 3G...\n6    Wir fordern die kritische Infrastruktur auf, i...\n7    Die Impfkampagne wird auch über die Feiertage ...\n8    Ich kann alle verstehen, die gerade vor Weihna...\n9    Heute hat das Abgeordnetenhaus @FranziskaGiffe...\nName: text, dtype: object"
     },
     "execution_count": 9,
     "metadata": {},
     "output_type": "execute_result"
    }
   ],
   "source": [
    "tweets_df[\"text\"].head(10)"
   ],
   "metadata": {
    "collapsed": false,
    "pycharm": {
     "name": "#%%\n"
    }
   }
  },
  {
   "cell_type": "code",
   "execution_count": 10,
   "outputs": [],
   "source": [
    "# general info on tweet characterization\n",
    "tweets_df[\"is_retweet\"] = tweets_df[\"text\"].str.match(r\"RT\\s@.+\")\n",
    "tweets_df[\"has_user_mention\"] = tweets_df[\"entities\"].isna() == False\n",
    "tweets_df[\"text_lower\"] = tweets_df[\"text\"].str.lower()"
   ],
   "metadata": {
    "collapsed": false,
    "pycharm": {
     "name": "#%%\n"
    }
   }
  },
  {
   "cell_type": "code",
   "execution_count": 11,
   "outputs": [],
   "source": [
    "# checking if tweet is about corona\n",
    "pandemics_search_str = \"|\".join(PANDEMICS_WORDS)\n",
    "tweets_df[\"covid_words_in_tweet\"] = tweets_df[\"text_lower\"].str.findall(\n",
    "    r\"{}\".format(pandemics_search_str)\n",
    ")\n",
    "tweets_df[\"covid_words_in_tweet_cnt\"] = tweets_df[\"covid_words_in_tweet\"].apply(\n",
    "    lambda word_list: len(word_list)\n",
    ")\n",
    "\n",
    "# check if user mentions other users or shares links to further sources\n",
    "tweets_df[\"mentions_covid\"] = tweets_df[\"covid_words_in_tweet_cnt\"] > 0\n",
    "links_search_str = \"|\".join(\n",
    "    [\".*https?://\", \".*bitly\", \".*goo.gl\", \".*tinyurl\", \".*ow.ly\"]\n",
    ")\n",
    "tweets_df[\"links_in_tweet\"] = (\n",
    "    tweets_df[\"text_lower\"].head(100).str.match(r\"{}\".format(links_search_str))\n",
    ")"
   ],
   "metadata": {
    "collapsed": false,
    "pycharm": {
     "name": "#%%\n"
    }
   }
  },
  {
   "cell_type": "code",
   "execution_count": 12,
   "outputs": [
    {
     "data": {
      "text/plain": "                    id                                               text  \\\n0  1479772130862456834  RT @RegSprecher: Eine strenge, aber notwendige...   \n1  1478809222435463178  RT @wbuechner: #Kanzler @OlafScholz dankte heu...   \n2  1476965982350585860  RT @RegSprecher: Wir brechen auf in eine neue ...   \n3  1474344664207609859  Abermals heißt es zu Weihnachten: Kontakte red...   \n4  1473369051313455106  Mein Dank gilt dem #Expertenrat für die klare ...   \n5  1473369049966985222  Die Beschränkungen für Ungeimpfte bleiben – 3G...   \n6  1473369048498987009  Wir fordern die kritische Infrastruktur auf, i...   \n7  1473369047060385800  Die Impfkampagne wird auch über die Feiertage ...   \n8  1473369044996796434  Ich kann alle verstehen, die gerade vor Weihna...   \n9  1473272074315747335  Heute hat das Abgeordnetenhaus @FranziskaGiffe...   \n\n                 created_at  \\\n0  2022-01-08T11:09:03.000Z   \n1  2022-01-05T19:22:48.000Z   \n2  2021-12-31T17:18:25.000Z   \n3  2021-12-24T11:42:14.000Z   \n4  2021-12-21T19:05:30.000Z   \n5  2021-12-21T19:05:30.000Z   \n6  2021-12-21T19:05:29.000Z   \n7  2021-12-21T19:05:29.000Z   \n8  2021-12-21T19:05:28.000Z   \n9  2021-12-21T12:40:09.000Z   \n\n                                            entities  \\\n0  {'mentions': [{'start': 3, 'end': 15, 'usernam...   \n1  {'mentions': [{'start': 3, 'end': 13, 'usernam...   \n2  {'mentions': [{'start': 3, 'end': 15, 'usernam...   \n3                                                NaN   \n4                                                NaN   \n5                                                NaN   \n6                                                NaN   \n7                                                NaN   \n8                                                NaN   \n9  {'mentions': [{'start': 31, 'end': 47, 'userna...   \n\n                                      public_metrics   user_id       author  \\\n0  {'retweet_count': 51, 'reply_count': 0, 'like_...  38150247  Olaf Scholz   \n1  {'retweet_count': 38, 'reply_count': 0, 'like_...  38150247  Olaf Scholz   \n2  {'retweet_count': 366, 'reply_count': 0, 'like...  38150247  Olaf Scholz   \n3  {'retweet_count': 295, 'reply_count': 2430, 'l...  38150247  Olaf Scholz   \n4  {'retweet_count': 52, 'reply_count': 377, 'lik...  38150247  Olaf Scholz   \n5  {'retweet_count': 50, 'reply_count': 241, 'lik...  38150247  Olaf Scholz   \n6  {'retweet_count': 37, 'reply_count': 114, 'lik...  38150247  Olaf Scholz   \n7  {'retweet_count': 32, 'reply_count': 83, 'like...  38150247  Olaf Scholz   \n8  {'retweet_count': 246, 'reply_count': 1785, 'l...  38150247  Olaf Scholz   \n9  {'retweet_count': 74, 'reply_count': 548, 'lik...  38150247  Olaf Scholz   \n\n   is_retweet  has_user_mention  \\\n0        True              True   \n1        True              True   \n2        True              True   \n3       False             False   \n4       False             False   \n5       False             False   \n6       False             False   \n7       False             False   \n8       False             False   \n9       False              True   \n\n                                          text_lower covid_words_in_tweet  \\\n0  rt @regsprecher: eine strenge, aber notwendige...                   []   \n1  rt @wbuechner: #kanzler @olafscholz dankte heu...                   []   \n2  rt @regsprecher: wir brechen auf in eine neue ...                   []   \n3  abermals heißt es zu weihnachten: kontakte red...                   []   \n4  mein dank gilt dem #expertenrat für die klare ...                   []   \n5  die beschränkungen für ungeimpfte bleiben – 3g...                   []   \n6  wir fordern die kritische infrastruktur auf, i...           [pandemie]   \n7  die impfkampagne wird auch über die feiertage ...            [impfung]   \n8  ich kann alle verstehen, die gerade vor weihna...              [virus]   \n9  heute hat das abgeordnetenhaus @franziskagiffe...                   []   \n\n   covid_words_in_tweet_cnt  mentions_covid links_in_tweet  \n0                         0           False          False  \n1                         0           False          False  \n2                         0           False          False  \n3                         0           False          False  \n4                         0           False          False  \n5                         0           False          False  \n6                         1            True          False  \n7                         1            True          False  \n8                         1            True          False  \n9                         0           False          False  ",
      "text/html": "<div>\n<style scoped>\n    .dataframe tbody tr th:only-of-type {\n        vertical-align: middle;\n    }\n\n    .dataframe tbody tr th {\n        vertical-align: top;\n    }\n\n    .dataframe thead th {\n        text-align: right;\n    }\n</style>\n<table border=\"1\" class=\"dataframe\">\n  <thead>\n    <tr style=\"text-align: right;\">\n      <th></th>\n      <th>id</th>\n      <th>text</th>\n      <th>created_at</th>\n      <th>entities</th>\n      <th>public_metrics</th>\n      <th>user_id</th>\n      <th>author</th>\n      <th>is_retweet</th>\n      <th>has_user_mention</th>\n      <th>text_lower</th>\n      <th>covid_words_in_tweet</th>\n      <th>covid_words_in_tweet_cnt</th>\n      <th>mentions_covid</th>\n      <th>links_in_tweet</th>\n    </tr>\n  </thead>\n  <tbody>\n    <tr>\n      <th>0</th>\n      <td>1479772130862456834</td>\n      <td>RT @RegSprecher: Eine strenge, aber notwendige...</td>\n      <td>2022-01-08T11:09:03.000Z</td>\n      <td>{'mentions': [{'start': 3, 'end': 15, 'usernam...</td>\n      <td>{'retweet_count': 51, 'reply_count': 0, 'like_...</td>\n      <td>38150247</td>\n      <td>Olaf Scholz</td>\n      <td>True</td>\n      <td>True</td>\n      <td>rt @regsprecher: eine strenge, aber notwendige...</td>\n      <td>[]</td>\n      <td>0</td>\n      <td>False</td>\n      <td>False</td>\n    </tr>\n    <tr>\n      <th>1</th>\n      <td>1478809222435463178</td>\n      <td>RT @wbuechner: #Kanzler @OlafScholz dankte heu...</td>\n      <td>2022-01-05T19:22:48.000Z</td>\n      <td>{'mentions': [{'start': 3, 'end': 13, 'usernam...</td>\n      <td>{'retweet_count': 38, 'reply_count': 0, 'like_...</td>\n      <td>38150247</td>\n      <td>Olaf Scholz</td>\n      <td>True</td>\n      <td>True</td>\n      <td>rt @wbuechner: #kanzler @olafscholz dankte heu...</td>\n      <td>[]</td>\n      <td>0</td>\n      <td>False</td>\n      <td>False</td>\n    </tr>\n    <tr>\n      <th>2</th>\n      <td>1476965982350585860</td>\n      <td>RT @RegSprecher: Wir brechen auf in eine neue ...</td>\n      <td>2021-12-31T17:18:25.000Z</td>\n      <td>{'mentions': [{'start': 3, 'end': 15, 'usernam...</td>\n      <td>{'retweet_count': 366, 'reply_count': 0, 'like...</td>\n      <td>38150247</td>\n      <td>Olaf Scholz</td>\n      <td>True</td>\n      <td>True</td>\n      <td>rt @regsprecher: wir brechen auf in eine neue ...</td>\n      <td>[]</td>\n      <td>0</td>\n      <td>False</td>\n      <td>False</td>\n    </tr>\n    <tr>\n      <th>3</th>\n      <td>1474344664207609859</td>\n      <td>Abermals heißt es zu Weihnachten: Kontakte red...</td>\n      <td>2021-12-24T11:42:14.000Z</td>\n      <td>NaN</td>\n      <td>{'retweet_count': 295, 'reply_count': 2430, 'l...</td>\n      <td>38150247</td>\n      <td>Olaf Scholz</td>\n      <td>False</td>\n      <td>False</td>\n      <td>abermals heißt es zu weihnachten: kontakte red...</td>\n      <td>[]</td>\n      <td>0</td>\n      <td>False</td>\n      <td>False</td>\n    </tr>\n    <tr>\n      <th>4</th>\n      <td>1473369051313455106</td>\n      <td>Mein Dank gilt dem #Expertenrat für die klare ...</td>\n      <td>2021-12-21T19:05:30.000Z</td>\n      <td>NaN</td>\n      <td>{'retweet_count': 52, 'reply_count': 377, 'lik...</td>\n      <td>38150247</td>\n      <td>Olaf Scholz</td>\n      <td>False</td>\n      <td>False</td>\n      <td>mein dank gilt dem #expertenrat für die klare ...</td>\n      <td>[]</td>\n      <td>0</td>\n      <td>False</td>\n      <td>False</td>\n    </tr>\n    <tr>\n      <th>5</th>\n      <td>1473369049966985222</td>\n      <td>Die Beschränkungen für Ungeimpfte bleiben – 3G...</td>\n      <td>2021-12-21T19:05:30.000Z</td>\n      <td>NaN</td>\n      <td>{'retweet_count': 50, 'reply_count': 241, 'lik...</td>\n      <td>38150247</td>\n      <td>Olaf Scholz</td>\n      <td>False</td>\n      <td>False</td>\n      <td>die beschränkungen für ungeimpfte bleiben – 3g...</td>\n      <td>[]</td>\n      <td>0</td>\n      <td>False</td>\n      <td>False</td>\n    </tr>\n    <tr>\n      <th>6</th>\n      <td>1473369048498987009</td>\n      <td>Wir fordern die kritische Infrastruktur auf, i...</td>\n      <td>2021-12-21T19:05:29.000Z</td>\n      <td>NaN</td>\n      <td>{'retweet_count': 37, 'reply_count': 114, 'lik...</td>\n      <td>38150247</td>\n      <td>Olaf Scholz</td>\n      <td>False</td>\n      <td>False</td>\n      <td>wir fordern die kritische infrastruktur auf, i...</td>\n      <td>[pandemie]</td>\n      <td>1</td>\n      <td>True</td>\n      <td>False</td>\n    </tr>\n    <tr>\n      <th>7</th>\n      <td>1473369047060385800</td>\n      <td>Die Impfkampagne wird auch über die Feiertage ...</td>\n      <td>2021-12-21T19:05:29.000Z</td>\n      <td>NaN</td>\n      <td>{'retweet_count': 32, 'reply_count': 83, 'like...</td>\n      <td>38150247</td>\n      <td>Olaf Scholz</td>\n      <td>False</td>\n      <td>False</td>\n      <td>die impfkampagne wird auch über die feiertage ...</td>\n      <td>[impfung]</td>\n      <td>1</td>\n      <td>True</td>\n      <td>False</td>\n    </tr>\n    <tr>\n      <th>8</th>\n      <td>1473369044996796434</td>\n      <td>Ich kann alle verstehen, die gerade vor Weihna...</td>\n      <td>2021-12-21T19:05:28.000Z</td>\n      <td>NaN</td>\n      <td>{'retweet_count': 246, 'reply_count': 1785, 'l...</td>\n      <td>38150247</td>\n      <td>Olaf Scholz</td>\n      <td>False</td>\n      <td>False</td>\n      <td>ich kann alle verstehen, die gerade vor weihna...</td>\n      <td>[virus]</td>\n      <td>1</td>\n      <td>True</td>\n      <td>False</td>\n    </tr>\n    <tr>\n      <th>9</th>\n      <td>1473272074315747335</td>\n      <td>Heute hat das Abgeordnetenhaus @FranziskaGiffe...</td>\n      <td>2021-12-21T12:40:09.000Z</td>\n      <td>{'mentions': [{'start': 31, 'end': 47, 'userna...</td>\n      <td>{'retweet_count': 74, 'reply_count': 548, 'lik...</td>\n      <td>38150247</td>\n      <td>Olaf Scholz</td>\n      <td>False</td>\n      <td>True</td>\n      <td>heute hat das abgeordnetenhaus @franziskagiffe...</td>\n      <td>[]</td>\n      <td>0</td>\n      <td>False</td>\n      <td>False</td>\n    </tr>\n  </tbody>\n</table>\n</div>"
     },
     "execution_count": 12,
     "metadata": {},
     "output_type": "execute_result"
    }
   ],
   "source": [
    "tweets_df.head(10)"
   ],
   "metadata": {
    "collapsed": false,
    "pycharm": {
     "name": "#%%\n"
    }
   }
  },
  {
   "cell_type": "markdown",
   "source": [],
   "metadata": {
    "collapsed": false
   }
  },
  {
   "cell_type": "code",
   "execution_count": 13,
   "outputs": [
    {
     "data": {
      "text/plain": "author\nAnnalena Baerbock (Archiv)                                                  163\nBettina Stark-Watzinger                                                     275\nCem Özdemir                                                                 267\nChristian Lindner                                                           467\nHubertus Heil                                                               160\nKlara Geywitz                                                                10\nMarco Buschmann                                                             386\nNancy Faeser                                                                 89\nOlaf Scholz                                                                 258\nProf. Karl Lauterbach                                                      1569\nSteffiLemke                                                                  67\nSvenja Schulze                                                               83\nVolker Wissing                                                              297\nWolfgang Schmidt                                                            141\ntweets_without_covid_cnt      author\nAnnalena Baerbock (Archiv)    1373\nBett...\nName: tweets_with_covid_cnt, dtype: object"
     },
     "execution_count": 13,
     "metadata": {},
     "output_type": "execute_result"
    }
   ],
   "source": [
    "covid_mentions_df = (\n",
    "    tweets_df.groupby(\"author\")[\"mentions_covid\"].sum().rename(\"tweets_with_covid_cnt\")\n",
    ")\n",
    "covid_mentions_df[\"tweets_without_covid_cnt\"] = tweets_df.groupby(\"author\")[\n",
    "    \"mentions_covid\"\n",
    "].count()\n",
    "covid_mentions_df"
   ],
   "metadata": {
    "collapsed": false,
    "pycharm": {
     "name": "#%%\n"
    }
   }
  },
  {
   "cell_type": "code",
   "execution_count": 14,
   "outputs": [],
   "source": [
    "tweets_stats_per_author_df = (\n",
    "    tweets_df[[\"author\", \"mentions_covid\"]].groupby(\"author\").mean()\n",
    ")\n",
    "tweets_stats_per_author_df = tweets_stats_per_author_df[\"mentions_covid\"].rename(\n",
    "    \"covid_tweets_share\"\n",
    ")\n",
    "tweets_stats_per_author_df = tweets_stats_per_author_df.sort_values(ascending=True)"
   ],
   "metadata": {
    "collapsed": false,
    "pycharm": {
     "name": "#%%\n"
    }
   }
  },
  {
   "cell_type": "code",
   "execution_count": 15,
   "outputs": [
    {
     "name": "stderr",
     "output_type": "stream",
     "text": [
      "/var/folders/n6/gc1kg4891tzd041w9shtbb_c0000gn/T/ipykernel_65095/2089155856.py:5: UserWarning: FixedFormatter should only be used together with FixedLocator\n",
      "  covid_stats_plt.set_xticklabels(\n"
     ]
    },
    {
     "data": {
      "text/plain": "<Figure size 432x288 with 1 Axes>",
      "image/png": "[encoded data removed]"
     },
     "metadata": {
      "needs_background": "light"
     },
     "output_type": "display_data"
    }
   ],
   "source": [
    "covid_stats_plt = tweets_stats_per_author_df.plot.barh(\n",
    "    y=\"covid_tweets_share\", title=\"Share of Tweets talking about the Pandemic.\"\n",
    ")\n",
    "covid_stats_plt.set_xlabel(\"Share of Tweets in %\")\n",
    "covid_stats_plt.set_xticklabels(\n",
    "    [\"{:,.2%}\".format(x) for x in covid_stats_plt.get_xticks()]\n",
    ")\n",
    "plt.show()"
   ],
   "metadata": {
    "collapsed": false,
    "pycharm": {
     "name": "#%%\n"
    }
   }
  },
  {
   "cell_type": "code",
   "execution_count": 33,
   "outputs": [
    {
     "data": {
      "text/plain": "array(['Olaf Scholz', 'Volker Wissing', 'Christian Lindner',\n       'Prof. Karl Lauterbach', 'Annalena Baerbock (Archiv)',\n       'Nancy Faeser', 'Marco Buschmann', 'Hubertus Heil', 'Cem Özdemir',\n       'SteffiLemke', 'Bettina Stark-Watzinger', 'Svenja Schulze',\n       'Klara Geywitz', 'Wolfgang Schmidt'], dtype=object)"
     },
     "execution_count": 33,
     "metadata": {},
     "output_type": "execute_result"
    }
   ],
   "source": [
    "# now lemmatization of words to make this even better\n",
    "tweets_df[\"author\"].unique()"
   ],
   "metadata": {
    "collapsed": false,
    "pycharm": {
     "name": "#%%\n"
    }
   }
  },
  {
   "cell_type": "code",
   "execution_count": 17,
   "outputs": [
    {
     "name": "stdout",
     "output_type": "stream",
     "text": [
      "Found 'impfpflicht' in 90 tweets.\n",
      "Found 'pflege' in 212 tweets.\n",
      "Found 'lockdown' in 450 tweets.\n",
      "Found 'weihnachtslockdown' in 0 tweets.\n",
      "Found 'nebenwirkung*' in 38 tweets.\n",
      "Found 'notstand' in 13 tweets.\n",
      "Found 'maskenpflicht' in 52 tweets.\n"
     ]
    }
   ],
   "source": [
    "for word in [\n",
    "    \"impfpflicht\",\n",
    "    \"pflege\",\n",
    "    \"lockdown\",\n",
    "    \"weihnachtslockdown\",\n",
    "    \"nebenwirkung*\",\n",
    "    \"notstand\",\n",
    "    \"maskenpflicht\",\n",
    "]:\n",
    "    found_in_tweets_cnt = tweets_df[tweets_df[\"text_lower\"].str.match(f\".*{word}\")][\n",
    "        \"id\"\n",
    "    ].count()\n",
    "    print(f\"Found {word!r} in {found_in_tweets_cnt} tweets.\")"
   ],
   "metadata": {
    "collapsed": false,
    "pycharm": {
     "name": "#%%\n"
    }
   }
  },
  {
   "cell_type": "code",
   "execution_count": 34,
   "outputs": [
    {
     "data": {
      "text/plain": "                       id                                               text  \\\n6189  1479982154390065158  Unglaublich. Der wahrscheinlich intelligentest...   \n6190  1479933834183467014  Die Daten aus UK zeigen bei Kindern erschrecke...   \n6192  1479771247496028163  Der CDC Report zeigt bei Kindern und Jugendlic...   \n6193  1479626311685619716  Diejenigen, die noch ungeimpft sind, sollten w...   \n6194  1479626309995319299  Die neuen UK Daten zeigen eine überragende Wir...   \n...                   ...                                                ...   \n9426  1318690471988940802  With a coach working for the virus there is no...   \n9427  1318688251054641152  (2) In der mittleren Altersgruppe werden viele...   \n9429  1318685325913477126  (2) Das ist klar weiteres Argument zu Vorsicht...   \n9430  1318684070281465856  (1) Keine unwichtige Studie. Pat., die entwede...   \n9437  1318521703383879680  Damit hat @CiesekSandra einen Punkt. Auch die ...   \n\n                    created_at  \\\n6189  2022-01-09T01:03:37.000Z   \n6190  2022-01-08T21:51:36.000Z   \n6192  2022-01-08T11:05:32.000Z   \n6193  2022-01-08T01:29:37.000Z   \n6194  2022-01-08T01:29:37.000Z   \n...                        ...   \n9426  2020-10-20T23:08:03.000Z   \n9427  2020-10-20T22:59:13.000Z   \n9429  2020-10-20T22:47:36.000Z   \n9430  2020-10-20T22:42:36.000Z   \n9437  2020-10-20T11:57:25.000Z   \n\n                                               entities  \\\n6189  {'mentions': [{'start': 66, 'end': 76, 'userna...   \n6190                                                NaN   \n6192                                                NaN   \n6193                                                NaN   \n6194                                                NaN   \n...                                                 ...   \n9426                                                NaN   \n9427                                                NaN   \n9429                                                NaN   \n9430                                                NaN   \n9437  {'mentions': [{'start': 10, 'end': 23, 'userna...   \n\n                                         public_metrics     user_id  \\\n6189  {'retweet_count': 141, 'reply_count': 936, 'li...  3292982985   \n6190  {'retweet_count': 1187, 'reply_count': 2062, '...  3292982985   \n6192  {'retweet_count': 583, 'reply_count': 925, 'li...  3292982985   \n6193  {'retweet_count': 200, 'reply_count': 566, 'li...  3292982985   \n6194  {'retweet_count': 790, 'reply_count': 1058, 'l...  3292982985   \n...                                                 ...         ...   \n9426  {'retweet_count': 71, 'reply_count': 29, 'like...  3292982985   \n9427  {'retweet_count': 186, 'reply_count': 50, 'lik...  3292982985   \n9429  {'retweet_count': 25, 'reply_count': 11, 'like...  3292982985   \n9430  {'retweet_count': 73, 'reply_count': 18, 'like...  3292982985   \n9437  {'retweet_count': 48, 'reply_count': 37, 'like...  3292982985   \n\n                     author  is_retweet  has_user_mention  \\\n6189  Prof. Karl Lauterbach       False              True   \n6190  Prof. Karl Lauterbach       False             False   \n6192  Prof. Karl Lauterbach       False             False   \n6193  Prof. Karl Lauterbach       False             False   \n6194  Prof. Karl Lauterbach       False             False   \n...                     ...         ...               ...   \n9426  Prof. Karl Lauterbach       False             False   \n9427  Prof. Karl Lauterbach       False             False   \n9429  Prof. Karl Lauterbach       False             False   \n9430  Prof. Karl Lauterbach       False             False   \n9437  Prof. Karl Lauterbach       False              True   \n\n                                             text_lower covid_words_in_tweet  \\\n6189  unglaublich. der wahrscheinlich intelligentest...            [impfung]   \n6190  die daten aus uk zeigen bei kindern erschrecke...       [maske, maske]   \n6192  der cdc report zeigt bei kindern und jugendlic...     [covid, impfung]   \n6193  diejenigen, die noch ungeimpft sind, sollten w...            [impfung]   \n6194  die neuen uk daten zeigen eine überragende wir...            [impfung]   \n...                                                 ...                  ...   \n9426  with a coach working for the virus there is no...         [rki, virus]   \n9427  (2) in der mittleren altersgruppe werden viele...              [covid]   \n9429  (2) das ist klar weiteres argument zu vorsicht...            [impfung]   \n9430  (1) keine unwichtige studie. pat., die entwede...            [impfung]   \n9437  damit hat @cieseksandra einen punkt. auch die ...              [maske]   \n\n      covid_words_in_tweet_cnt  mentions_covid links_in_tweet  \n6189                         1            True            NaN  \n6190                         2            True            NaN  \n6192                         2            True            NaN  \n6193                         1            True            NaN  \n6194                         1            True            NaN  \n...                        ...             ...            ...  \n9426                         2            True            NaN  \n9427                         1            True            NaN  \n9429                         1            True            NaN  \n9430                         1            True            NaN  \n9437                         1            True            NaN  \n\n[1569 rows x 14 columns]",
      "text/html": "<div>\n<style scoped>\n    .dataframe tbody tr th:only-of-type {\n        vertical-align: middle;\n    }\n\n    .dataframe tbody tr th {\n        vertical-align: top;\n    }\n\n    .dataframe thead th {\n        text-align: right;\n    }\n</style>\n<table border=\"1\" class=\"dataframe\">\n  <thead>\n    <tr style=\"text-align: right;\">\n      <th></th>\n      <th>id</th>\n      <th>text</th>\n      <th>created_at</th>\n      <th>entities</th>\n      <th>public_metrics</th>\n      <th>user_id</th>\n      <th>author</th>\n      <th>is_retweet</th>\n      <th>has_user_mention</th>\n      <th>text_lower</th>\n      <th>covid_words_in_tweet</th>\n      <th>covid_words_in_tweet_cnt</th>\n      <th>mentions_covid</th>\n      <th>links_in_tweet</th>\n    </tr>\n  </thead>\n  <tbody>\n    <tr>\n      <th>6189</th>\n      <td>1479982154390065158</td>\n      <td>Unglaublich. Der wahrscheinlich intelligentest...</td>\n      <td>2022-01-09T01:03:37.000Z</td>\n      <td>{'mentions': [{'start': 66, 'end': 76, 'userna...</td>\n      <td>{'retweet_count': 141, 'reply_count': 936, 'li...</td>\n      <td>3292982985</td>\n      <td>Prof. Karl Lauterbach</td>\n      <td>False</td>\n      <td>True</td>\n      <td>unglaublich. der wahrscheinlich intelligentest...</td>\n      <td>[impfung]</td>\n      <td>1</td>\n      <td>True</td>\n      <td>NaN</td>\n    </tr>\n    <tr>\n      <th>6190</th>\n      <td>1479933834183467014</td>\n      <td>Die Daten aus UK zeigen bei Kindern erschrecke...</td>\n      <td>2022-01-08T21:51:36.000Z</td>\n      <td>NaN</td>\n      <td>{'retweet_count': 1187, 'reply_count': 2062, '...</td>\n      <td>3292982985</td>\n      <td>Prof. Karl Lauterbach</td>\n      <td>False</td>\n      <td>False</td>\n      <td>die daten aus uk zeigen bei kindern erschrecke...</td>\n      <td>[maske, maske]</td>\n      <td>2</td>\n      <td>True</td>\n      <td>NaN</td>\n    </tr>\n    <tr>\n      <th>6192</th>\n      <td>1479771247496028163</td>\n      <td>Der CDC Report zeigt bei Kindern und Jugendlic...</td>\n      <td>2022-01-08T11:05:32.000Z</td>\n      <td>NaN</td>\n      <td>{'retweet_count': 583, 'reply_count': 925, 'li...</td>\n      <td>3292982985</td>\n      <td>Prof. Karl Lauterbach</td>\n      <td>False</td>\n      <td>False</td>\n      <td>der cdc report zeigt bei kindern und jugendlic...</td>\n      <td>[covid, impfung]</td>\n      <td>2</td>\n      <td>True</td>\n      <td>NaN</td>\n    </tr>\n    <tr>\n      <th>6193</th>\n      <td>1479626311685619716</td>\n      <td>Diejenigen, die noch ungeimpft sind, sollten w...</td>\n      <td>2022-01-08T01:29:37.000Z</td>\n      <td>NaN</td>\n      <td>{'retweet_count': 200, 'reply_count': 566, 'li...</td>\n      <td>3292982985</td>\n      <td>Prof. Karl Lauterbach</td>\n      <td>False</td>\n      <td>False</td>\n      <td>diejenigen, die noch ungeimpft sind, sollten w...</td>\n      <td>[impfung]</td>\n      <td>1</td>\n      <td>True</td>\n      <td>NaN</td>\n    </tr>\n    <tr>\n      <th>6194</th>\n      <td>1479626309995319299</td>\n      <td>Die neuen UK Daten zeigen eine überragende Wir...</td>\n      <td>2022-01-08T01:29:37.000Z</td>\n      <td>NaN</td>\n      <td>{'retweet_count': 790, 'reply_count': 1058, 'l...</td>\n      <td>3292982985</td>\n      <td>Prof. Karl Lauterbach</td>\n      <td>False</td>\n      <td>False</td>\n      <td>die neuen uk daten zeigen eine überragende wir...</td>\n      <td>[impfung]</td>\n      <td>1</td>\n      <td>True</td>\n      <td>NaN</td>\n    </tr>\n    <tr>\n      <th>...</th>\n      <td>...</td>\n      <td>...</td>\n      <td>...</td>\n      <td>...</td>\n      <td>...</td>\n      <td>...</td>\n      <td>...</td>\n      <td>...</td>\n      <td>...</td>\n      <td>...</td>\n      <td>...</td>\n      <td>...</td>\n      <td>...</td>\n      <td>...</td>\n    </tr>\n    <tr>\n      <th>9426</th>\n      <td>1318690471988940802</td>\n      <td>With a coach working for the virus there is no...</td>\n      <td>2020-10-20T23:08:03.000Z</td>\n      <td>NaN</td>\n      <td>{'retweet_count': 71, 'reply_count': 29, 'like...</td>\n      <td>3292982985</td>\n      <td>Prof. Karl Lauterbach</td>\n      <td>False</td>\n      <td>False</td>\n      <td>with a coach working for the virus there is no...</td>\n      <td>[rki, virus]</td>\n      <td>2</td>\n      <td>True</td>\n      <td>NaN</td>\n    </tr>\n    <tr>\n      <th>9427</th>\n      <td>1318688251054641152</td>\n      <td>(2) In der mittleren Altersgruppe werden viele...</td>\n      <td>2020-10-20T22:59:13.000Z</td>\n      <td>NaN</td>\n      <td>{'retweet_count': 186, 'reply_count': 50, 'lik...</td>\n      <td>3292982985</td>\n      <td>Prof. Karl Lauterbach</td>\n      <td>False</td>\n      <td>False</td>\n      <td>(2) in der mittleren altersgruppe werden viele...</td>\n      <td>[covid]</td>\n      <td>1</td>\n      <td>True</td>\n      <td>NaN</td>\n    </tr>\n    <tr>\n      <th>9429</th>\n      <td>1318685325913477126</td>\n      <td>(2) Das ist klar weiteres Argument zu Vorsicht...</td>\n      <td>2020-10-20T22:47:36.000Z</td>\n      <td>NaN</td>\n      <td>{'retweet_count': 25, 'reply_count': 11, 'like...</td>\n      <td>3292982985</td>\n      <td>Prof. Karl Lauterbach</td>\n      <td>False</td>\n      <td>False</td>\n      <td>(2) das ist klar weiteres argument zu vorsicht...</td>\n      <td>[impfung]</td>\n      <td>1</td>\n      <td>True</td>\n      <td>NaN</td>\n    </tr>\n    <tr>\n      <th>9430</th>\n      <td>1318684070281465856</td>\n      <td>(1) Keine unwichtige Studie. Pat., die entwede...</td>\n      <td>2020-10-20T22:42:36.000Z</td>\n      <td>NaN</td>\n      <td>{'retweet_count': 73, 'reply_count': 18, 'like...</td>\n      <td>3292982985</td>\n      <td>Prof. Karl Lauterbach</td>\n      <td>False</td>\n      <td>False</td>\n      <td>(1) keine unwichtige studie. pat., die entwede...</td>\n      <td>[impfung]</td>\n      <td>1</td>\n      <td>True</td>\n      <td>NaN</td>\n    </tr>\n    <tr>\n      <th>9437</th>\n      <td>1318521703383879680</td>\n      <td>Damit hat @CiesekSandra einen Punkt. Auch die ...</td>\n      <td>2020-10-20T11:57:25.000Z</td>\n      <td>{'mentions': [{'start': 10, 'end': 23, 'userna...</td>\n      <td>{'retweet_count': 48, 'reply_count': 37, 'like...</td>\n      <td>3292982985</td>\n      <td>Prof. Karl Lauterbach</td>\n      <td>False</td>\n      <td>True</td>\n      <td>damit hat @cieseksandra einen punkt. auch die ...</td>\n      <td>[maske]</td>\n      <td>1</td>\n      <td>True</td>\n      <td>NaN</td>\n    </tr>\n  </tbody>\n</table>\n<p>1569 rows × 14 columns</p>\n</div>"
     },
     "execution_count": 34,
     "metadata": {},
     "output_type": "execute_result"
    }
   ],
   "source": [
    "tweets_df[\n",
    "    (tweets_df.author == \"Prof. Karl Lauterbach\") & (tweets_df.mentions_covid == True)\n",
    "]"
   ],
   "metadata": {
    "collapsed": false,
    "pycharm": {
     "name": "#%%\n"
    }
   }
  },
  {
   "cell_type": "code",
   "execution_count": null,
   "outputs": [],
   "source": [],
   "metadata": {
    "collapsed": false,
    "pycharm": {
     "name": "#%%\n"
    }
   }
  }
 ],
 "metadata": {
  "kernelspec": {
   "display_name": "Python 3",
   "language": "python",
   "name": "python3"
  },
  "language_info": {
   "codemirror_mode": {
    "name": "ipython",
    "version": 2
   },
   "file_extension": ".py",
   "mimetype": "text/x-python",
   "name": "python",
   "nbconvert_exporter": "python",
   "pygments_lexer": "ipython2",
   "version": "2.7.6"
  }
 },
 "nbformat": 4,
 "nbformat_minor": 0
}