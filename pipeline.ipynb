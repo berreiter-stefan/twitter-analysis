{
 "cells": [
  {
   "cell_type": "code",
   "execution_count": 1,
   "outputs": [],
   "source": [
    "import pandas as pd  # For displaying the data after\n",
    "import matplotlib.pyplot as plt  # for plotting data\n",
    "from src.twitter_util import TwitterApiGetter\n",
    "from src.persistance_util import export_container_to_csv\n",
    "from config import PANDEMICS_WORDS"
   ],
   "metadata": {
    "collapsed": false,
    "pycharm": {
     "name": "#%%\n"
    }
   }
  },
  {
   "cell_type": "code",
   "execution_count": 2,
   "outputs": [
    {
     "name": "stdout",
     "output_type": "stream",
     "text": [
      "INFO: 14/14 Twitter accounts of ministers with Twitter handles fetched.\n"
     ]
    }
   ],
   "source": [
    "twg = TwitterApiGetter()\n",
    "minister_bios = twg.get_all_minister_twitter_bios(\n",
    "    custom_user_fields=[\n",
    "        \"created_at\",\n",
    "        \"description\",\n",
    "        \"id\",\n",
    "        \"location\",\n",
    "        \"name\",\n",
    "        \"public_metrics\",\n",
    "        \"url\",\n",
    "        \"username\",\n",
    "        \"verified\",\n",
    "    ],\n",
    ")\n",
    "export_container_to_csv(container=minister_bios, path=\"data/minister_bios.csv\")"
   ],
   "metadata": {
    "collapsed": false,
    "pycharm": {
     "name": "#%%\n"
    }
   }
  },
  {
   "cell_type": "code",
   "execution_count": 3,
   "outputs": [
    {
     "data": {
      "text/plain": "                       url          id                        name  verified  \\\n0  https://t.co/pDZ6VOLHnA    38150247                 Olaf Scholz      True   \n1  https://t.co/QyGCyDDccr    20593301              Volker Wissing      True   \n2  https://t.co/mJgVJTabCr   122104353           Christian Lindner      True   \n3  https://t.co/aNTUPwOxBp  3292982985       Prof. Karl Lauterbach      True   \n4  https://t.co/NnwHzin72J  2179010672  Annalena Baerbock (Archiv)      True   \n\n          username                                        description  \\\n0       OlafScholz                Hier twittert das Team Olaf Scholz.   \n1          Wissing  Bundesminister für Digitales und Verkehr, Vors...   \n2        c_lindner  Bundesminister der Finanzen. Bundesvorsitzende...   \n3  Karl_Lauterbach  SPD Bundestagsabgeordneter, Bundesgesundheitsm...   \n4  ABaerbockArchiv  Dies ist ein Archiv des Twitter-Accounts von A...   \n\n                 created_at                         location  followers_count  \\\n0  2009-05-06T10:08:02.000Z              Berlin, Deutschland           350964   \n1  2009-02-11T14:34:58.000Z  Schillerstraße 11a, 55116 Mainz            31305   \n2  2010-03-11T16:11:51.000Z              Berlin, Deutschland           550142   \n3  2015-05-21T14:01:21.000Z              Berlin, Deutschland           831453   \n4  2013-11-07T00:04:11.000Z                              NaN           422912   \n\n   following_count  tweet_count  listed_count   party  \n0             1438         6486          1994     spd  \n1              998        13162           621     fdp  \n2             1371        17690          2409     fdp  \n3              296         9571          2838     spd  \n4             1466         4489          1508  gruene  ",
      "text/html": "<div>\n<style scoped>\n    .dataframe tbody tr th:only-of-type {\n        vertical-align: middle;\n    }\n\n    .dataframe tbody tr th {\n        vertical-align: top;\n    }\n\n    .dataframe thead th {\n        text-align: right;\n    }\n</style>\n<table border=\"1\" class=\"dataframe\">\n  <thead>\n    <tr style=\"text-align: right;\">\n      <th></th>\n      <th>url</th>\n      <th>id</th>\n      <th>name</th>\n      <th>verified</th>\n      <th>username</th>\n      <th>description</th>\n      <th>created_at</th>\n      <th>location</th>\n      <th>followers_count</th>\n      <th>following_count</th>\n      <th>tweet_count</th>\n      <th>listed_count</th>\n      <th>party</th>\n    </tr>\n  </thead>\n  <tbody>\n    <tr>\n      <th>0</th>\n      <td>https://t.co/pDZ6VOLHnA</td>\n      <td>38150247</td>\n      <td>Olaf Scholz</td>\n      <td>True</td>\n      <td>OlafScholz</td>\n      <td>Hier twittert das Team Olaf Scholz.</td>\n      <td>2009-05-06T10:08:02.000Z</td>\n      <td>Berlin, Deutschland</td>\n      <td>350964</td>\n      <td>1438</td>\n      <td>6486</td>\n      <td>1994</td>\n      <td>spd</td>\n    </tr>\n    <tr>\n      <th>1</th>\n      <td>https://t.co/QyGCyDDccr</td>\n      <td>20593301</td>\n      <td>Volker Wissing</td>\n      <td>True</td>\n      <td>Wissing</td>\n      <td>Bundesminister für Digitales und Verkehr, Vors...</td>\n      <td>2009-02-11T14:34:58.000Z</td>\n      <td>Schillerstraße 11a, 55116 Mainz</td>\n      <td>31305</td>\n      <td>998</td>\n      <td>13162</td>\n      <td>621</td>\n      <td>fdp</td>\n    </tr>\n    <tr>\n      <th>2</th>\n      <td>https://t.co/mJgVJTabCr</td>\n      <td>122104353</td>\n      <td>Christian Lindner</td>\n      <td>True</td>\n      <td>c_lindner</td>\n      <td>Bundesminister der Finanzen. Bundesvorsitzende...</td>\n      <td>2010-03-11T16:11:51.000Z</td>\n      <td>Berlin, Deutschland</td>\n      <td>550142</td>\n      <td>1371</td>\n      <td>17690</td>\n      <td>2409</td>\n      <td>fdp</td>\n    </tr>\n    <tr>\n      <th>3</th>\n      <td>https://t.co/aNTUPwOxBp</td>\n      <td>3292982985</td>\n      <td>Prof. Karl Lauterbach</td>\n      <td>True</td>\n      <td>Karl_Lauterbach</td>\n      <td>SPD Bundestagsabgeordneter, Bundesgesundheitsm...</td>\n      <td>2015-05-21T14:01:21.000Z</td>\n      <td>Berlin, Deutschland</td>\n      <td>831453</td>\n      <td>296</td>\n      <td>9571</td>\n      <td>2838</td>\n      <td>spd</td>\n    </tr>\n    <tr>\n      <th>4</th>\n      <td>https://t.co/NnwHzin72J</td>\n      <td>2179010672</td>\n      <td>Annalena Baerbock (Archiv)</td>\n      <td>True</td>\n      <td>ABaerbockArchiv</td>\n      <td>Dies ist ein Archiv des Twitter-Accounts von A...</td>\n      <td>2013-11-07T00:04:11.000Z</td>\n      <td>NaN</td>\n      <td>422912</td>\n      <td>1466</td>\n      <td>4489</td>\n      <td>1508</td>\n      <td>gruene</td>\n    </tr>\n  </tbody>\n</table>\n</div>"
     },
     "execution_count": 3,
     "metadata": {},
     "output_type": "execute_result"
    }
   ],
   "source": [
    "minister_df = pd.read_csv(\"data/minister_bios.csv\")\n",
    "minister_df.head()"
   ],
   "metadata": {
    "collapsed": false,
    "pycharm": {
     "name": "#%%\n"
    }
   }
  },
  {
   "cell_type": "code",
   "execution_count": 4,
   "outputs": [
    {
     "data": {
      "text/plain": "<Figure size 432x288 with 2 Axes>",
      "image/png": "[encoded data removed]"
     },
     "metadata": {
      "needs_background": "light"
     },
     "output_type": "display_data"
    }
   ],
   "source": [
    "# Some visualization\n",
    "tweet_ratio_plt = minister_df.plot(\n",
    "    kind=\"bar\",\n",
    "    x=\"name\",\n",
    "    y=[\"followers_count\", \"tweet_count\"],\n",
    "    secondary_y=\"tweet_count\",\n",
    ")\n",
    "tweet_ratio_plt.set_title(\n",
    "    \"Tweets vs Followers for German Ministers of the Traffic Light Coalition\"\n",
    ")\n",
    "tweet_ratio_plt.set_xlabel(\"Minister Names\")\n",
    "plt.show()"
   ],
   "metadata": {
    "collapsed": false,
    "pycharm": {
     "name": "#%%\n"
    }
   }
  },
  {
   "cell_type": "code",
   "execution_count": 5,
   "outputs": [
    {
     "name": "stderr",
     "output_type": "stream",
     "text": [
      "/var/folders/n6/gc1kg4891tzd041w9shtbb_c0000gn/T/ipykernel_59455/2881319713.py:2: FutureWarning: Indexing with multiple keys (implicitly converted to a tuple of keys) will be deprecated, use a list instead.\n",
      "  minister_df.groupby(by=[\"party\"])[\"followers_count\", \"tweet_count\"]\n"
     ]
    },
    {
     "data": {
      "text/plain": "        followers_count   tweet_count\nparty                                \ngruene    251665.666667  10119.333333\nspd       203021.142857   6652.428571\nfdp       160502.000000  13775.000000",
      "text/html": "<div>\n<style scoped>\n    .dataframe tbody tr th:only-of-type {\n        vertical-align: middle;\n    }\n\n    .dataframe tbody tr th {\n        vertical-align: top;\n    }\n\n    .dataframe thead th {\n        text-align: right;\n    }\n</style>\n<table border=\"1\" class=\"dataframe\">\n  <thead>\n    <tr style=\"text-align: right;\">\n      <th></th>\n      <th>followers_count</th>\n      <th>tweet_count</th>\n    </tr>\n    <tr>\n      <th>party</th>\n      <th></th>\n      <th></th>\n    </tr>\n  </thead>\n  <tbody>\n    <tr>\n      <th>gruene</th>\n      <td>251665.666667</td>\n      <td>10119.333333</td>\n    </tr>\n    <tr>\n      <th>spd</th>\n      <td>203021.142857</td>\n      <td>6652.428571</td>\n    </tr>\n    <tr>\n      <th>fdp</th>\n      <td>160502.000000</td>\n      <td>13775.000000</td>\n    </tr>\n  </tbody>\n</table>\n</div>"
     },
     "execution_count": 5,
     "metadata": {},
     "output_type": "execute_result"
    }
   ],
   "source": [
    "party_stats_df = (\n",
    "    minister_df.groupby(by=[\"party\"])[\"followers_count\", \"tweet_count\"]\n",
    "    .mean()\n",
    "    .sort_values(by=[\"followers_count\", \"tweet_count\"], ascending=[False, True])\n",
    ")\n",
    "party_stats_df"
   ],
   "metadata": {
    "collapsed": false,
    "pycharm": {
     "name": "#%%\n"
    }
   }
  },
  {
   "cell_type": "code",
   "execution_count": 6,
   "outputs": [
    {
     "data": {
      "text/plain": "<Figure size 432x288 with 2 Axes>",
      "image/png": "[encoded data removed]"
     },
     "metadata": {
      "needs_background": "light"
     },
     "output_type": "display_data"
    }
   ],
   "source": [
    "party_stats_plt = party_stats_df.plot(\n",
    "    kind=\"bar\", y=[\"followers_count\", \"tweet_count\"], secondary_y=\"tweet_count\"\n",
    ")\n",
    "party_stats_plt.set_title(\"Average Tweets and Followers per Party\")\n",
    "party_stats_plt.set_xlabel(\"Parties in Traffic Light Coalition\")\n",
    "plt.show()"
   ],
   "metadata": {
    "collapsed": false,
    "pycharm": {
     "name": "#%%\n"
    }
   }
  },
  {
   "cell_type": "code",
   "execution_count": 7,
   "outputs": [
    {
     "name": "stdout",
     "output_type": "stream",
     "text": [
      "INFO [user Olaf Scholz ✅]: Fetched 100 tweets.\n",
      "INFO [user Olaf Scholz ✅]: Fetched 100 tweets.\n",
      "INFO [user Olaf Scholz ✅]: Fetched 100 tweets.\n",
      "INFO [user Olaf Scholz ✅]: Fetched 100 tweets.\n",
      "INFO [user Olaf Scholz ✅]: Fetched 100 tweets.\n",
      "INFO [user Olaf Scholz ✅]: Fetched 100 tweets.\n",
      "INFO [user Olaf Scholz ✅]: Fetched 100 tweets.\n",
      "INFO [user Olaf Scholz ✅]: Fetched 100 tweets.\n",
      "INFO [user Olaf Scholz ✅]: Fetched 100 tweets.\n",
      "INFO [user Olaf Scholz ✅]: Fetched 100 tweets.\n",
      "INFO [user Olaf Scholz ✅]: Fetched 100 tweets.\n",
      "INFO [user Olaf Scholz ✅]: Fetched 100 tweets.\n",
      "INFO [user Olaf Scholz ✅]: Fetched 100 tweets.\n",
      "INFO [user Olaf Scholz ✅]: Fetched 75 tweets.\n",
      "INFO [user Olaf Scholz ✋]: No next_token in response to further fetch data.\n",
      "INFO [user Volker Wissing ✅]: Fetched 100 tweets.\n",
      "INFO [user Volker Wissing ✅]: Fetched 100 tweets.\n",
      "INFO [user Volker Wissing ✅]: Fetched 100 tweets.\n",
      "INFO [user Volker Wissing ✅]: Fetched 100 tweets.\n",
      "INFO [user Volker Wissing ✅]: Fetched 100 tweets.\n",
      "INFO [user Volker Wissing ✅]: Fetched 100 tweets.\n",
      "INFO [user Volker Wissing ✅]: Fetched 70 tweets.\n",
      "INFO [user Volker Wissing ✋]: No next_token in response to further fetch data.\n",
      "INFO [user Christian Lindner ✅]: Fetched 100 tweets.\n",
      "INFO [user Christian Lindner ✅]: Fetched 100 tweets.\n",
      "INFO [user Christian Lindner ✅]: Fetched 100 tweets.\n",
      "INFO [user Christian Lindner ✅]: Fetched 100 tweets.\n",
      "INFO [user Christian Lindner ✅]: Fetched 100 tweets.\n",
      "INFO [user Christian Lindner ✅]: Fetched 100 tweets.\n",
      "INFO [user Christian Lindner ✅]: Fetched 100 tweets.\n",
      "INFO [user Christian Lindner ✅]: Fetched 100 tweets.\n",
      "INFO [user Christian Lindner ✅]: Fetched 100 tweets.\n",
      "INFO [user Christian Lindner ✅]: Fetched 100 tweets.\n",
      "INFO [user Christian Lindner ✅]: Fetched 57 tweets.\n",
      "INFO [user Christian Lindner ✋]: No next_token in response to further fetch data.\n",
      "INFO [user Prof. Karl Lauterbach ✅]: Fetched 100 tweets.\n",
      "INFO [user Prof. Karl Lauterbach ✅]: Fetched 100 tweets.\n",
      "INFO [user Prof. Karl Lauterbach ✅]: Fetched 100 tweets.\n",
      "INFO [user Prof. Karl Lauterbach ✅]: Fetched 100 tweets.\n",
      "INFO [user Prof. Karl Lauterbach ✅]: Fetched 100 tweets.\n",
      "INFO [user Prof. Karl Lauterbach ✅]: Fetched 100 tweets.\n",
      "INFO [user Prof. Karl Lauterbach ✅]: Fetched 100 tweets.\n",
      "INFO [user Prof. Karl Lauterbach ✅]: Fetched 100 tweets.\n",
      "INFO [user Prof. Karl Lauterbach ✅]: Fetched 100 tweets.\n",
      "INFO [user Prof. Karl Lauterbach ✅]: Fetched 100 tweets.\n",
      "INFO [user Prof. Karl Lauterbach ✅]: Fetched 100 tweets.\n",
      "INFO [user Prof. Karl Lauterbach ✅]: Fetched 100 tweets.\n",
      "INFO [user Prof. Karl Lauterbach ✅]: Fetched 100 tweets.\n",
      "INFO [user Prof. Karl Lauterbach ✅]: Fetched 100 tweets.\n",
      "INFO [user Prof. Karl Lauterbach ✅]: Fetched 100 tweets.\n",
      "INFO [user Prof. Karl Lauterbach ✅]: Fetched 100 tweets.\n",
      "INFO [user Prof. Karl Lauterbach ✅]: Fetched 100 tweets.\n",
      "INFO [user Prof. Karl Lauterbach ✅]: Fetched 100 tweets.\n",
      "INFO [user Prof. Karl Lauterbach ✅]: Fetched 100 tweets.\n",
      "INFO [user Prof. Karl Lauterbach ✅]: Fetched 100 tweets.\n",
      "INFO [user Prof. Karl Lauterbach ✅]: Fetched 100 tweets.\n",
      "INFO ❌❌❌❌: Stopped because of reaching over 20 iterations for one user.\n",
      "INFO [user Annalena Baerbock (Archiv) ✅]: Fetched 100 tweets.\n",
      "INFO [user Annalena Baerbock (Archiv) ✅]: Fetched 100 tweets.\n",
      "INFO [user Annalena Baerbock (Archiv) ✅]: Fetched 100 tweets.\n",
      "INFO [user Annalena Baerbock (Archiv) ✅]: Fetched 100 tweets.\n",
      "INFO [user Annalena Baerbock (Archiv) ✅]: Fetched 63 tweets.\n",
      "INFO [user Annalena Baerbock (Archiv) ✋]: No next_token in response to further fetch data.\n",
      "INFO [user Nancy Faeser ✅]: Fetched 100 tweets.\n",
      "INFO [user Nancy Faeser ✅]: Fetched 100 tweets.\n",
      "INFO [user Nancy Faeser ✅]: Fetched 100 tweets.\n",
      "INFO [user Nancy Faeser ✅]: Fetched 100 tweets.\n",
      "INFO [user Nancy Faeser ✅]: Fetched 15 tweets.\n",
      "INFO [user Nancy Faeser ✋]: No next_token in response to further fetch data.\n",
      "INFO [user Marco Buschmann ✅]: Fetched 100 tweets.\n",
      "INFO [user Marco Buschmann ✅]: Fetched 100 tweets.\n",
      "INFO [user Marco Buschmann ✅]: Fetched 100 tweets.\n",
      "INFO [user Marco Buschmann ✅]: Fetched 100 tweets.\n",
      "INFO [user Marco Buschmann ✅]: Fetched 100 tweets.\n",
      "INFO [user Marco Buschmann ✅]: Fetched 100 tweets.\n",
      "INFO [user Marco Buschmann ✅]: Fetched 100 tweets.\n",
      "INFO [user Marco Buschmann ✅]: Fetched 100 tweets.\n",
      "INFO [user Marco Buschmann ✅]: Fetched 100 tweets.\n",
      "INFO [user Marco Buschmann ✅]: Fetched 100 tweets.\n",
      "INFO [user Marco Buschmann ✅]: Fetched 100 tweets.\n",
      "INFO [user Marco Buschmann ✅]: Fetched 100 tweets.\n",
      "INFO [user Marco Buschmann ✅]: Fetched 100 tweets.\n",
      "INFO [user Marco Buschmann ✅]: Fetched 100 tweets.\n",
      "INFO [user Marco Buschmann ✅]: Fetched 100 tweets.\n",
      "INFO [user Marco Buschmann ✅]: Fetched 100 tweets.\n",
      "INFO [user Marco Buschmann ✅]: Fetched 100 tweets.\n",
      "INFO [user Marco Buschmann ✅]: Fetched 100 tweets.\n",
      "INFO [user Marco Buschmann ✅]: Fetched 100 tweets.\n",
      "INFO [user Marco Buschmann ✅]: Fetched 100 tweets.\n",
      "INFO [user Marco Buschmann ✅]: Fetched 100 tweets.\n",
      "INFO ❌❌❌❌: Stopped because of reaching over 20 iterations for one user.\n",
      "INFO [user Hubertus Heil ✅]: Fetched 100 tweets.\n",
      "INFO [user Hubertus Heil ✅]: Fetched 100 tweets.\n",
      "INFO [user Hubertus Heil ✅]: Fetched 100 tweets.\n",
      "INFO [user Hubertus Heil ✅]: Fetched 100 tweets.\n",
      "INFO [user Hubertus Heil ✅]: Fetched 100 tweets.\n",
      "INFO [user Hubertus Heil ✅]: Fetched 100 tweets.\n",
      "INFO [user Hubertus Heil ✅]: Fetched 100 tweets.\n",
      "INFO [user Hubertus Heil ✅]: Fetched 100 tweets.\n",
      "INFO [user Hubertus Heil ✅]: Fetched 100 tweets.\n",
      "INFO [user Hubertus Heil ✅]: Fetched 100 tweets.\n",
      "INFO [user Hubertus Heil ✅]: Fetched 100 tweets.\n",
      "INFO [user Hubertus Heil ✅]: Fetched 100 tweets.\n",
      "INFO [user Hubertus Heil ✅]: Fetched 51 tweets.\n",
      "INFO [user Hubertus Heil ✋]: No next_token in response to further fetch data.\n",
      "INFO [user Cem Özdemir ✅]: Fetched 100 tweets.\n",
      "INFO [user Cem Özdemir ✅]: Fetched 100 tweets.\n",
      "INFO [user Cem Özdemir ✅]: Fetched 100 tweets.\n",
      "INFO [user Cem Özdemir ✅]: Fetched 100 tweets.\n",
      "INFO [user Cem Özdemir ✅]: Fetched 100 tweets.\n",
      "INFO [user Cem Özdemir ✅]: Fetched 100 tweets.\n",
      "INFO [user Cem Özdemir ✅]: Fetched 99 tweets.\n",
      "INFO [user Cem Özdemir ✅]: Fetched 100 tweets.\n",
      "INFO [user Cem Özdemir ✅]: Fetched 100 tweets.\n",
      "INFO [user Cem Özdemir ✅]: Fetched 99 tweets.\n",
      "INFO [user Cem Özdemir ✅]: Fetched 100 tweets.\n",
      "INFO [user Cem Özdemir ✅]: Fetched 100 tweets.\n",
      "INFO [user Cem Özdemir ✅]: Fetched 100 tweets.\n",
      "INFO [user Cem Özdemir ✅]: Fetched 100 tweets.\n",
      "INFO [user Cem Özdemir ✅]: Fetched 100 tweets.\n",
      "INFO [user Cem Özdemir ✅]: Fetched 100 tweets.\n",
      "INFO [user Cem Özdemir ✅]: Fetched 100 tweets.\n",
      "INFO [user Cem Özdemir ✅]: Fetched 100 tweets.\n",
      "INFO [user Cem Özdemir ✅]: Fetched 100 tweets.\n",
      "INFO [user Cem Özdemir ✅]: Fetched 100 tweets.\n",
      "INFO [user Cem Özdemir ❌]: No data in response.\n",
      "INFO [user SteffiLemke ✅]: Fetched 100 tweets.\n",
      "INFO [user SteffiLemke ✅]: Fetched 100 tweets.\n",
      "INFO [user SteffiLemke ✅]: Fetched 100 tweets.\n",
      "INFO [user SteffiLemke ✅]: Fetched 100 tweets.\n",
      "INFO [user SteffiLemke ✅]: Fetched 100 tweets.\n",
      "INFO [user SteffiLemke ✅]: Fetched 100 tweets.\n",
      "INFO [user SteffiLemke ✅]: Fetched 100 tweets.\n",
      "INFO [user SteffiLemke ✅]: Fetched 100 tweets.\n",
      "INFO [user SteffiLemke ✅]: Fetched 100 tweets.\n",
      "INFO [user SteffiLemke ✅]: Fetched 100 tweets.\n",
      "INFO [user SteffiLemke ✅]: Fetched 7 tweets.\n",
      "INFO [user SteffiLemke ✋]: No next_token in response to further fetch data.\n",
      "INFO [user Bettina Stark-Watzinger ✅]: Fetched 100 tweets.\n",
      "INFO [user Bettina Stark-Watzinger ✅]: Fetched 100 tweets.\n",
      "INFO [user Bettina Stark-Watzinger ✅]: Fetched 99 tweets.\n",
      "INFO [user Bettina Stark-Watzinger ✅]: Fetched 100 tweets.\n",
      "INFO [user Bettina Stark-Watzinger ✅]: Fetched 100 tweets.\n",
      "INFO [user Bettina Stark-Watzinger ✅]: Fetched 100 tweets.\n",
      "INFO [user Bettina Stark-Watzinger ✅]: Fetched 100 tweets.\n",
      "INFO [user Bettina Stark-Watzinger ✅]: Fetched 100 tweets.\n",
      "INFO [user Bettina Stark-Watzinger ✅]: Fetched 90 tweets.\n",
      "INFO [user Bettina Stark-Watzinger ✋]: No next_token in response to further fetch data.\n",
      "INFO [user Svenja Schulze ✅]: Fetched 100 tweets.\n",
      "INFO [user Svenja Schulze ✅]: Fetched 100 tweets.\n",
      "INFO [user Svenja Schulze ✅]: Fetched 100 tweets.\n",
      "INFO [user Svenja Schulze ✅]: Fetched 100 tweets.\n",
      "INFO [user Svenja Schulze ✅]: Fetched 100 tweets.\n",
      "INFO [user Svenja Schulze ✅]: Fetched 100 tweets.\n",
      "INFO [user Svenja Schulze ✅]: Fetched 82 tweets.\n",
      "INFO [user Svenja Schulze ✋]: No next_token in response to further fetch data.\n",
      "INFO [user Klara Geywitz ✅]: Fetched 100 tweets.\n",
      "INFO [user Klara Geywitz ✅]: Fetched 100 tweets.\n",
      "INFO [user Klara Geywitz ✅]: Fetched 100 tweets.\n",
      "INFO [user Klara Geywitz ✅]: Fetched 100 tweets.\n",
      "INFO [user Klara Geywitz ✅]: Fetched 93 tweets.\n",
      "INFO [user Klara Geywitz ✋]: No next_token in response to further fetch data.\n",
      "INFO [user Wolfgang Schmidt ✅]: Fetched 100 tweets.\n",
      "INFO [user Wolfgang Schmidt ✅]: Fetched 100 tweets.\n",
      "INFO [user Wolfgang Schmidt ✅]: Fetched 100 tweets.\n",
      "INFO [user Wolfgang Schmidt ✅]: Fetched 100 tweets.\n",
      "INFO [user Wolfgang Schmidt ✅]: Fetched 100 tweets.\n",
      "INFO [user Wolfgang Schmidt ✅]: Fetched 100 tweets.\n",
      "INFO [user Wolfgang Schmidt ✅]: Fetched 100 tweets.\n",
      "INFO [user Wolfgang Schmidt ✅]: Fetched 100 tweets.\n",
      "INFO [user Wolfgang Schmidt ✅]: Fetched 100 tweets.\n",
      "INFO [user Wolfgang Schmidt ✅]: Fetched 100 tweets.\n",
      "INFO [user Wolfgang Schmidt ✅]: Fetched 98 tweets.\n",
      "INFO [user Wolfgang Schmidt ✅]: Fetched 100 tweets.\n",
      "INFO [user Wolfgang Schmidt ✅]: Fetched 100 tweets.\n",
      "INFO [user Wolfgang Schmidt ✅]: Fetched 100 tweets.\n",
      "INFO [user Wolfgang Schmidt ✅]: Fetched 100 tweets.\n",
      "INFO [user Wolfgang Schmidt ✅]: Fetched 100 tweets.\n",
      "INFO [user Wolfgang Schmidt ✅]: Fetched 100 tweets.\n",
      "INFO [user Wolfgang Schmidt ✅]: Fetched 100 tweets.\n",
      "INFO [user Wolfgang Schmidt ✅]: Fetched 100 tweets.\n",
      "INFO [user Wolfgang Schmidt ✅]: Fetched 100 tweets.\n",
      "INFO [user Wolfgang Schmidt ✅]: Fetched 100 tweets.\n",
      "INFO ❌❌❌❌: Stopped because of reaching over 20 iterations for one user.\n",
      "fetched 16598 tweets in total.\n"
     ]
    }
   ],
   "source": [
    "all_tweets = []\n",
    "\n",
    "minister_twitter_identifiers = minister_df[[\"id\", \"name\"]].values.tolist()\n",
    "for user_id, user_name in minister_twitter_identifiers:\n",
    "    user_tweets = twg.fetch_user_tweets(user_id=user_id, user_name=user_name)\n",
    "    all_tweets.extend(user_tweets)\n",
    "\n",
    "print(f\"fetched {len(all_tweets)} tweets in total.\")\n",
    "export_container_to_csv(container=all_tweets, path=\"data/minister_tweets.csv\")"
   ],
   "metadata": {
    "collapsed": false,
    "pycharm": {
     "name": "#%%\n"
    }
   }
  },
  {
   "cell_type": "code",
   "execution_count": 39,
   "outputs": [
    {
     "name": "stdout",
     "output_type": "stream",
     "text": [
      "<class 'pandas.core.frame.DataFrame'>\n",
      "RangeIndex: 16598 entries, 0 to 16597\n",
      "Data columns (total 7 columns):\n",
      " #   Column          Non-Null Count  Dtype \n",
      "---  ------          --------------  ----- \n",
      " 0   public_metrics  16598 non-null  object\n",
      " 1   id              16598 non-null  int64 \n",
      " 2   entities        11145 non-null  object\n",
      " 3   text            16598 non-null  object\n",
      " 4   created_at      16598 non-null  object\n",
      " 5   user_id         16598 non-null  int64 \n",
      " 6   author          16598 non-null  object\n",
      "dtypes: int64(2), object(5)\n",
      "memory usage: 907.8+ KB\n"
     ]
    }
   ],
   "source": [
    "tweets_df = pd.read_csv(\"data/minister_tweets.csv\")\n",
    "tweets_df.info()"
   ],
   "metadata": {
    "collapsed": false,
    "pycharm": {
     "name": "#%%\n"
    }
   }
  },
  {
   "cell_type": "code",
   "execution_count": 40,
   "outputs": [
    {
     "data": {
      "text/plain": "0    RT @wbuechner: #Kanzler @OlafScholz dankte heu...\n1    RT @RegSprecher: Wir brechen auf in eine neue ...\n2    Abermals heißt es zu Weihnachten: Kontakte red...\n3    Mein Dank gilt dem #Expertenrat für die klare ...\n4    Die Beschränkungen für Ungeimpfte bleiben – 3G...\n5    Wir fordern die kritische Infrastruktur auf, i...\n6    Die Impfkampagne wird auch über die Feiertage ...\n7    Ich kann alle verstehen, die gerade vor Weihna...\n8    Heute hat das Abgeordnetenhaus @FranziskaGiffe...\n9    RT @RegSprecher: In Gedenken an die Opfer des ...\nName: text, dtype: object"
     },
     "execution_count": 40,
     "metadata": {},
     "output_type": "execute_result"
    }
   ],
   "source": [
    "tweets_df[\"text\"].head(10)"
   ],
   "metadata": {
    "collapsed": false,
    "pycharm": {
     "name": "#%%\n"
    }
   }
  },
  {
   "cell_type": "code",
   "execution_count": 41,
   "outputs": [],
   "source": [
    "# general info on tweet characterization\n",
    "tweets_df[\"is_retweet\"] = tweets_df[\"text\"].str.match(r\"RT\\s@.+\")\n",
    "tweets_df[\"has_user_mention\"] = tweets_df[\"entities\"].isna() == False\n",
    "tweets_df[\"text_lower\"] = tweets_df[\"text\"].str.lower()"
   ],
   "metadata": {
    "collapsed": false,
    "pycharm": {
     "name": "#%%\n"
    }
   }
  },
  {
   "cell_type": "code",
   "execution_count": 42,
   "outputs": [],
   "source": [
    "# checking if tweet is about corona\n",
    "pandemics_search_str = \"|\".join(PANDEMICS_WORDS)\n",
    "tweets_df[\"covid_words_in_tweet\"] = tweets_df[\"text_lower\"].str.findall(\n",
    "    r\"{}\".format(pandemics_search_str)\n",
    ")\n",
    "tweets_df[\"covid_words_in_tweet_cnt\"] = tweets_df[\"covid_words_in_tweet\"].apply(\n",
    "    lambda word_list: len(word_list)\n",
    ")\n",
    "\n",
    "# check if user mentions other users or shares links to further sources\n",
    "tweets_df[\"mentions_covid\"] = tweets_df[\"covid_words_in_tweet_cnt\"] > 0\n",
    "links_search_str = \"|\".join(\n",
    "    [\".*https?://\", \".*bitly\", \".*goo.gl\", \".*tinyurl\", \".*ow.ly\"]\n",
    ")\n",
    "tweets_df[\"links_in_tweet\"] = (\n",
    "    tweets_df[\"text_lower\"].head(100).str.match(r\"{}\".format(links_search_str))\n",
    ")"
   ],
   "metadata": {
    "collapsed": false,
    "pycharm": {
     "name": "#%%\n"
    }
   }
  },
  {
   "cell_type": "code",
   "execution_count": 43,
   "outputs": [
    {
     "data": {
      "text/plain": "                                      public_metrics                   id  \\\n0  {'retweet_count': 28, 'reply_count': 0, 'like_...  1478809222435463178   \n1  {'retweet_count': 364, 'reply_count': 0, 'like...  1476965982350585860   \n2  {'retweet_count': 293, 'reply_count': 2392, 'l...  1474344664207609859   \n3  {'retweet_count': 51, 'reply_count': 369, 'lik...  1473369051313455106   \n4  {'retweet_count': 50, 'reply_count': 231, 'lik...  1473369049966985222   \n5  {'retweet_count': 37, 'reply_count': 114, 'lik...  1473369048498987009   \n6  {'retweet_count': 32, 'reply_count': 83, 'like...  1473369047060385800   \n7  {'retweet_count': 245, 'reply_count': 1771, 'l...  1473369044996796434   \n8  {'retweet_count': 74, 'reply_count': 539, 'lik...  1473272074315747335   \n9  {'retweet_count': 186, 'reply_count': 0, 'like...  1472524476210368515   \n\n                                            entities  \\\n0  {'mentions': [{'start': 3, 'end': 13, 'usernam...   \n1  {'mentions': [{'start': 3, 'end': 15, 'usernam...   \n2                                                NaN   \n3                                                NaN   \n4                                                NaN   \n5                                                NaN   \n6                                                NaN   \n7                                                NaN   \n8  {'mentions': [{'start': 31, 'end': 47, 'userna...   \n9  {'mentions': [{'start': 3, 'end': 15, 'usernam...   \n\n                                                text  \\\n0  RT @wbuechner: #Kanzler @OlafScholz dankte heu...   \n1  RT @RegSprecher: Wir brechen auf in eine neue ...   \n2  Abermals heißt es zu Weihnachten: Kontakte red...   \n3  Mein Dank gilt dem #Expertenrat für die klare ...   \n4  Die Beschränkungen für Ungeimpfte bleiben – 3G...   \n5  Wir fordern die kritische Infrastruktur auf, i...   \n6  Die Impfkampagne wird auch über die Feiertage ...   \n7  Ich kann alle verstehen, die gerade vor Weihna...   \n8  Heute hat das Abgeordnetenhaus @FranziskaGiffe...   \n9  RT @RegSprecher: In Gedenken an die Opfer des ...   \n\n                 created_at   user_id       author  is_retweet  \\\n0  2022-01-05T19:22:48.000Z  38150247  Olaf Scholz        True   \n1  2021-12-31T17:18:25.000Z  38150247  Olaf Scholz        True   \n2  2021-12-24T11:42:14.000Z  38150247  Olaf Scholz       False   \n3  2021-12-21T19:05:30.000Z  38150247  Olaf Scholz       False   \n4  2021-12-21T19:05:30.000Z  38150247  Olaf Scholz       False   \n5  2021-12-21T19:05:29.000Z  38150247  Olaf Scholz       False   \n6  2021-12-21T19:05:29.000Z  38150247  Olaf Scholz       False   \n7  2021-12-21T19:05:28.000Z  38150247  Olaf Scholz       False   \n8  2021-12-21T12:40:09.000Z  38150247  Olaf Scholz       False   \n9  2021-12-19T11:09:27.000Z  38150247  Olaf Scholz        True   \n\n   has_user_mention                                         text_lower  \\\n0              True  rt @wbuechner: #kanzler @olafscholz dankte heu...   \n1              True  rt @regsprecher: wir brechen auf in eine neue ...   \n2             False  abermals heißt es zu weihnachten: kontakte red...   \n3             False  mein dank gilt dem #expertenrat für die klare ...   \n4             False  die beschränkungen für ungeimpfte bleiben – 3g...   \n5             False  wir fordern die kritische infrastruktur auf, i...   \n6             False  die impfkampagne wird auch über die feiertage ...   \n7             False  ich kann alle verstehen, die gerade vor weihna...   \n8              True  heute hat das abgeordnetenhaus @franziskagiffe...   \n9              True  rt @regsprecher: in gedenken an die opfer des ...   \n\n  covid_words_in_tweet  covid_words_in_tweet_cnt  mentions_covid  \n0                   []                         0           False  \n1                   []                         0           False  \n2                   []                         0           False  \n3                   []                         0           False  \n4                   []                         0           False  \n5           [pandemie]                         1            True  \n6            [impfung]                         1            True  \n7              [virus]                         1            True  \n8                   []                         0           False  \n9                   []                         0           False  ",
      "text/html": "<div>\n<style scoped>\n    .dataframe tbody tr th:only-of-type {\n        vertical-align: middle;\n    }\n\n    .dataframe tbody tr th {\n        vertical-align: top;\n    }\n\n    .dataframe thead th {\n        text-align: right;\n    }\n</style>\n<table border=\"1\" class=\"dataframe\">\n  <thead>\n    <tr style=\"text-align: right;\">\n      <th></th>\n      <th>public_metrics</th>\n      <th>id</th>\n      <th>entities</th>\n      <th>text</th>\n      <th>created_at</th>\n      <th>user_id</th>\n      <th>author</th>\n      <th>is_retweet</th>\n      <th>has_user_mention</th>\n      <th>text_lower</th>\n      <th>covid_words_in_tweet</th>\n      <th>covid_words_in_tweet_cnt</th>\n      <th>mentions_covid</th>\n    </tr>\n  </thead>\n  <tbody>\n    <tr>\n      <th>0</th>\n      <td>{'retweet_count': 28, 'reply_count': 0, 'like_...</td>\n      <td>1478809222435463178</td>\n      <td>{'mentions': [{'start': 3, 'end': 13, 'usernam...</td>\n      <td>RT @wbuechner: #Kanzler @OlafScholz dankte heu...</td>\n      <td>2022-01-05T19:22:48.000Z</td>\n      <td>38150247</td>\n      <td>Olaf Scholz</td>\n      <td>True</td>\n      <td>True</td>\n      <td>rt @wbuechner: #kanzler @olafscholz dankte heu...</td>\n      <td>[]</td>\n      <td>0</td>\n      <td>False</td>\n    </tr>\n    <tr>\n      <th>1</th>\n      <td>{'retweet_count': 364, 'reply_count': 0, 'like...</td>\n      <td>1476965982350585860</td>\n      <td>{'mentions': [{'start': 3, 'end': 15, 'usernam...</td>\n      <td>RT @RegSprecher: Wir brechen auf in eine neue ...</td>\n      <td>2021-12-31T17:18:25.000Z</td>\n      <td>38150247</td>\n      <td>Olaf Scholz</td>\n      <td>True</td>\n      <td>True</td>\n      <td>rt @regsprecher: wir brechen auf in eine neue ...</td>\n      <td>[]</td>\n      <td>0</td>\n      <td>False</td>\n    </tr>\n    <tr>\n      <th>2</th>\n      <td>{'retweet_count': 293, 'reply_count': 2392, 'l...</td>\n      <td>1474344664207609859</td>\n      <td>NaN</td>\n      <td>Abermals heißt es zu Weihnachten: Kontakte red...</td>\n      <td>2021-12-24T11:42:14.000Z</td>\n      <td>38150247</td>\n      <td>Olaf Scholz</td>\n      <td>False</td>\n      <td>False</td>\n      <td>abermals heißt es zu weihnachten: kontakte red...</td>\n      <td>[]</td>\n      <td>0</td>\n      <td>False</td>\n    </tr>\n    <tr>\n      <th>3</th>\n      <td>{'retweet_count': 51, 'reply_count': 369, 'lik...</td>\n      <td>1473369051313455106</td>\n      <td>NaN</td>\n      <td>Mein Dank gilt dem #Expertenrat für die klare ...</td>\n      <td>2021-12-21T19:05:30.000Z</td>\n      <td>38150247</td>\n      <td>Olaf Scholz</td>\n      <td>False</td>\n      <td>False</td>\n      <td>mein dank gilt dem #expertenrat für die klare ...</td>\n      <td>[]</td>\n      <td>0</td>\n      <td>False</td>\n    </tr>\n    <tr>\n      <th>4</th>\n      <td>{'retweet_count': 50, 'reply_count': 231, 'lik...</td>\n      <td>1473369049966985222</td>\n      <td>NaN</td>\n      <td>Die Beschränkungen für Ungeimpfte bleiben – 3G...</td>\n      <td>2021-12-21T19:05:30.000Z</td>\n      <td>38150247</td>\n      <td>Olaf Scholz</td>\n      <td>False</td>\n      <td>False</td>\n      <td>die beschränkungen für ungeimpfte bleiben – 3g...</td>\n      <td>[]</td>\n      <td>0</td>\n      <td>False</td>\n    </tr>\n    <tr>\n      <th>5</th>\n      <td>{'retweet_count': 37, 'reply_count': 114, 'lik...</td>\n      <td>1473369048498987009</td>\n      <td>NaN</td>\n      <td>Wir fordern die kritische Infrastruktur auf, i...</td>\n      <td>2021-12-21T19:05:29.000Z</td>\n      <td>38150247</td>\n      <td>Olaf Scholz</td>\n      <td>False</td>\n      <td>False</td>\n      <td>wir fordern die kritische infrastruktur auf, i...</td>\n      <td>[pandemie]</td>\n      <td>1</td>\n      <td>True</td>\n    </tr>\n    <tr>\n      <th>6</th>\n      <td>{'retweet_count': 32, 'reply_count': 83, 'like...</td>\n      <td>1473369047060385800</td>\n      <td>NaN</td>\n      <td>Die Impfkampagne wird auch über die Feiertage ...</td>\n      <td>2021-12-21T19:05:29.000Z</td>\n      <td>38150247</td>\n      <td>Olaf Scholz</td>\n      <td>False</td>\n      <td>False</td>\n      <td>die impfkampagne wird auch über die feiertage ...</td>\n      <td>[impfung]</td>\n      <td>1</td>\n      <td>True</td>\n    </tr>\n    <tr>\n      <th>7</th>\n      <td>{'retweet_count': 245, 'reply_count': 1771, 'l...</td>\n      <td>1473369044996796434</td>\n      <td>NaN</td>\n      <td>Ich kann alle verstehen, die gerade vor Weihna...</td>\n      <td>2021-12-21T19:05:28.000Z</td>\n      <td>38150247</td>\n      <td>Olaf Scholz</td>\n      <td>False</td>\n      <td>False</td>\n      <td>ich kann alle verstehen, die gerade vor weihna...</td>\n      <td>[virus]</td>\n      <td>1</td>\n      <td>True</td>\n    </tr>\n    <tr>\n      <th>8</th>\n      <td>{'retweet_count': 74, 'reply_count': 539, 'lik...</td>\n      <td>1473272074315747335</td>\n      <td>{'mentions': [{'start': 31, 'end': 47, 'userna...</td>\n      <td>Heute hat das Abgeordnetenhaus @FranziskaGiffe...</td>\n      <td>2021-12-21T12:40:09.000Z</td>\n      <td>38150247</td>\n      <td>Olaf Scholz</td>\n      <td>False</td>\n      <td>True</td>\n      <td>heute hat das abgeordnetenhaus @franziskagiffe...</td>\n      <td>[]</td>\n      <td>0</td>\n      <td>False</td>\n    </tr>\n    <tr>\n      <th>9</th>\n      <td>{'retweet_count': 186, 'reply_count': 0, 'like...</td>\n      <td>1472524476210368515</td>\n      <td>{'mentions': [{'start': 3, 'end': 15, 'usernam...</td>\n      <td>RT @RegSprecher: In Gedenken an die Opfer des ...</td>\n      <td>2021-12-19T11:09:27.000Z</td>\n      <td>38150247</td>\n      <td>Olaf Scholz</td>\n      <td>True</td>\n      <td>True</td>\n      <td>rt @regsprecher: in gedenken an die opfer des ...</td>\n      <td>[]</td>\n      <td>0</td>\n      <td>False</td>\n    </tr>\n  </tbody>\n</table>\n</div>"
     },
     "execution_count": 43,
     "metadata": {},
     "output_type": "execute_result"
    }
   ],
   "source": [
    "tweets_df.head(10)"
   ],
   "metadata": {
    "collapsed": false,
    "pycharm": {
     "name": "#%%\n"
    }
   }
  },
  {
   "cell_type": "markdown",
   "source": [],
   "metadata": {
    "collapsed": false
   }
  },
  {
   "cell_type": "code",
   "execution_count": 44,
   "outputs": [
    {
     "data": {
      "text/plain": "author\nAnnalena Baerbock (Archiv)                                                   29\nBettina Stark-Watzinger                                                     146\nCem Özdemir                                                                 137\nChristian Lindner                                                           179\nHubertus Heil                                                                80\nKlara Geywitz                                                                 3\nMarco Buschmann                                                             292\nNancy Faeser                                                                 36\nOlaf Scholz                                                                 157\nProf. Karl Lauterbach                                                       988\nSteffiLemke                                                                  51\nSvenja Schulze                                                               24\nVolker Wissing                                                              140\nWolfgang Schmidt                                                             65\ntweets_without_covid_cnt      author\nAnnalena Baerbock (Archiv)     463\nBett...\nName: tweets_with_covid_cnt, dtype: object"
     },
     "execution_count": 44,
     "metadata": {},
     "output_type": "execute_result"
    }
   ],
   "source": [
    "covid_mentions_df = (\n",
    "    tweets_df.groupby(\"author\")[\"mentions_covid\"].sum().rename(\"tweets_with_covid_cnt\")\n",
    ")\n",
    "covid_mentions_df[\"tweets_without_covid_cnt\"] = tweets_df.groupby(\"author\")[\n",
    "    \"mentions_covid\"\n",
    "].count()\n",
    "covid_mentions_df"
   ],
   "metadata": {
    "collapsed": false,
    "pycharm": {
     "name": "#%%\n"
    }
   }
  },
  {
   "cell_type": "code",
   "execution_count": 45,
   "outputs": [],
   "source": [
    "tweets_stats_per_author_df = (\n",
    "    tweets_df[[\"author\", \"mentions_covid\"]].groupby(\"author\").mean()\n",
    ")\n",
    "tweets_stats_per_author_df = tweets_stats_per_author_df[\"mentions_covid\"].rename(\n",
    "    \"covid_tweets_share\"\n",
    ")\n",
    "tweets_stats_per_author_df = tweets_stats_per_author_df.sort_values(ascending=True)"
   ],
   "metadata": {
    "collapsed": false,
    "pycharm": {
     "name": "#%%\n"
    }
   }
  },
  {
   "cell_type": "code",
   "execution_count": 46,
   "outputs": [
    {
     "name": "stderr",
     "output_type": "stream",
     "text": [
      "/var/folders/n6/gc1kg4891tzd041w9shtbb_c0000gn/T/ipykernel_59455/709526410.py:6: UserWarning: FixedFormatter should only be used together with FixedLocator\n",
      "  covid_stats_plt.set_xticklabels(['{:,.2%}'.format(x) for x in covid_stats_plt.get_xticks()])\n"
     ]
    },
    {
     "data": {
      "text/plain": "<Figure size 432x288 with 1 Axes>",
      "image/png": "[encoded data removed]"
     },
     "metadata": {
      "needs_background": "light"
     },
     "output_type": "display_data"
    }
   ],
   "source": [
    "covid_stats_plt = tweets_stats_per_author_df.plot.barh(\n",
    "    y=\"covid_tweets_share\", title=\"Share of Tweets talking about the Pandemic.\"\n",
    ")\n",
    "covid_stats_plt.set_xlabel(\"Share of Tweets in %\")\n",
    "covid_stats_plt.set_xticklabels(\n",
    "    [\"{:,.2%}\".format(x) for x in covid_stats_plt.get_xticks()]\n",
    ")\n",
    "plt.show()"
   ],
   "metadata": {
    "collapsed": false,
    "pycharm": {
     "name": "#%%\n"
    }
   }
  },
  {
   "cell_type": "code",
   "execution_count": 47,
   "outputs": [
    {
     "data": {
      "text/plain": "                                      public_metrics                   id  \\\n0  {'retweet_count': 28, 'reply_count': 0, 'like_...  1478809222435463178   \n1  {'retweet_count': 364, 'reply_count': 0, 'like...  1476965982350585860   \n2  {'retweet_count': 293, 'reply_count': 2392, 'l...  1474344664207609859   \n3  {'retweet_count': 51, 'reply_count': 369, 'lik...  1473369051313455106   \n4  {'retweet_count': 50, 'reply_count': 231, 'lik...  1473369049966985222   \n\n                                            entities  \\\n0  {'mentions': [{'start': 3, 'end': 13, 'usernam...   \n1  {'mentions': [{'start': 3, 'end': 15, 'usernam...   \n2                                                NaN   \n3                                                NaN   \n4                                                NaN   \n\n                                                text  \\\n0  RT @wbuechner: #Kanzler @OlafScholz dankte heu...   \n1  RT @RegSprecher: Wir brechen auf in eine neue ...   \n2  Abermals heißt es zu Weihnachten: Kontakte red...   \n3  Mein Dank gilt dem #Expertenrat für die klare ...   \n4  Die Beschränkungen für Ungeimpfte bleiben – 3G...   \n\n                 created_at   user_id       author  is_retweet  \\\n0  2022-01-05T19:22:48.000Z  38150247  Olaf Scholz        True   \n1  2021-12-31T17:18:25.000Z  38150247  Olaf Scholz        True   \n2  2021-12-24T11:42:14.000Z  38150247  Olaf Scholz       False   \n3  2021-12-21T19:05:30.000Z  38150247  Olaf Scholz       False   \n4  2021-12-21T19:05:30.000Z  38150247  Olaf Scholz       False   \n\n   has_user_mention                                         text_lower  \\\n0              True  rt @wbuechner: #kanzler @olafscholz dankte heu...   \n1              True  rt @regsprecher: wir brechen auf in eine neue ...   \n2             False  abermals heißt es zu weihnachten: kontakte red...   \n3             False  mein dank gilt dem #expertenrat für die klare ...   \n4             False  die beschränkungen für ungeimpfte bleiben – 3g...   \n\n  covid_words_in_tweet  covid_words_in_tweet_cnt  mentions_covid  \n0                   []                         0           False  \n1                   []                         0           False  \n2                   []                         0           False  \n3                   []                         0           False  \n4                   []                         0           False  ",
      "text/html": "<div>\n<style scoped>\n    .dataframe tbody tr th:only-of-type {\n        vertical-align: middle;\n    }\n\n    .dataframe tbody tr th {\n        vertical-align: top;\n    }\n\n    .dataframe thead th {\n        text-align: right;\n    }\n</style>\n<table border=\"1\" class=\"dataframe\">\n  <thead>\n    <tr style=\"text-align: right;\">\n      <th></th>\n      <th>public_metrics</th>\n      <th>id</th>\n      <th>entities</th>\n      <th>text</th>\n      <th>created_at</th>\n      <th>user_id</th>\n      <th>author</th>\n      <th>is_retweet</th>\n      <th>has_user_mention</th>\n      <th>text_lower</th>\n      <th>covid_words_in_tweet</th>\n      <th>covid_words_in_tweet_cnt</th>\n      <th>mentions_covid</th>\n    </tr>\n  </thead>\n  <tbody>\n    <tr>\n      <th>0</th>\n      <td>{'retweet_count': 28, 'reply_count': 0, 'like_...</td>\n      <td>1478809222435463178</td>\n      <td>{'mentions': [{'start': 3, 'end': 13, 'usernam...</td>\n      <td>RT @wbuechner: #Kanzler @OlafScholz dankte heu...</td>\n      <td>2022-01-05T19:22:48.000Z</td>\n      <td>38150247</td>\n      <td>Olaf Scholz</td>\n      <td>True</td>\n      <td>True</td>\n      <td>rt @wbuechner: #kanzler @olafscholz dankte heu...</td>\n      <td>[]</td>\n      <td>0</td>\n      <td>False</td>\n    </tr>\n    <tr>\n      <th>1</th>\n      <td>{'retweet_count': 364, 'reply_count': 0, 'like...</td>\n      <td>1476965982350585860</td>\n      <td>{'mentions': [{'start': 3, 'end': 15, 'usernam...</td>\n      <td>RT @RegSprecher: Wir brechen auf in eine neue ...</td>\n      <td>2021-12-31T17:18:25.000Z</td>\n      <td>38150247</td>\n      <td>Olaf Scholz</td>\n      <td>True</td>\n      <td>True</td>\n      <td>rt @regsprecher: wir brechen auf in eine neue ...</td>\n      <td>[]</td>\n      <td>0</td>\n      <td>False</td>\n    </tr>\n    <tr>\n      <th>2</th>\n      <td>{'retweet_count': 293, 'reply_count': 2392, 'l...</td>\n      <td>1474344664207609859</td>\n      <td>NaN</td>\n      <td>Abermals heißt es zu Weihnachten: Kontakte red...</td>\n      <td>2021-12-24T11:42:14.000Z</td>\n      <td>38150247</td>\n      <td>Olaf Scholz</td>\n      <td>False</td>\n      <td>False</td>\n      <td>abermals heißt es zu weihnachten: kontakte red...</td>\n      <td>[]</td>\n      <td>0</td>\n      <td>False</td>\n    </tr>\n    <tr>\n      <th>3</th>\n      <td>{'retweet_count': 51, 'reply_count': 369, 'lik...</td>\n      <td>1473369051313455106</td>\n      <td>NaN</td>\n      <td>Mein Dank gilt dem #Expertenrat für die klare ...</td>\n      <td>2021-12-21T19:05:30.000Z</td>\n      <td>38150247</td>\n      <td>Olaf Scholz</td>\n      <td>False</td>\n      <td>False</td>\n      <td>mein dank gilt dem #expertenrat für die klare ...</td>\n      <td>[]</td>\n      <td>0</td>\n      <td>False</td>\n    </tr>\n    <tr>\n      <th>4</th>\n      <td>{'retweet_count': 50, 'reply_count': 231, 'lik...</td>\n      <td>1473369049966985222</td>\n      <td>NaN</td>\n      <td>Die Beschränkungen für Ungeimpfte bleiben – 3G...</td>\n      <td>2021-12-21T19:05:30.000Z</td>\n      <td>38150247</td>\n      <td>Olaf Scholz</td>\n      <td>False</td>\n      <td>False</td>\n      <td>die beschränkungen für ungeimpfte bleiben – 3g...</td>\n      <td>[]</td>\n      <td>0</td>\n      <td>False</td>\n    </tr>\n  </tbody>\n</table>\n</div>"
     },
     "execution_count": 47,
     "metadata": {},
     "output_type": "execute_result"
    }
   ],
   "source": [
    "# now lemmatization of words to make this even better\n",
    "tweets_df.head()"
   ],
   "metadata": {
    "collapsed": false,
    "pycharm": {
     "name": "#%%\n"
    }
   }
  },
  {
   "cell_type": "code",
   "execution_count": 70,
   "outputs": [
    {
     "name": "stdout",
     "output_type": "stream",
     "text": [
      "Found 'impfpflicht' in 83 tweets.\n",
      "Found 'pflege' in 147 tweets.\n",
      "Found 'lockdown' in 245 tweets.\n",
      "Found 'weihnachtslockdown' in 0 tweets.\n",
      "Found 'nebenwirkung*' in 26 tweets.\n",
      "Found 'notstand' in 10 tweets.\n",
      "Found 'maskenpflicht' in 34 tweets.\n"
     ]
    }
   ],
   "source": [
    "for word in [\n",
    "    \"impfpflicht\",\n",
    "    \"pflege\",\n",
    "    \"lockdown\",\n",
    "    \"weihnachtslockdown\",\n",
    "    \"nebenwirkung*\",\n",
    "    \"notstand\",\n",
    "    \"maskenpflicht\",\n",
    "]:\n",
    "    found_in_tweets_cnt = tweets_df[tweets_df[\"text_lower\"].str.match(f\".*{word}\")][\n",
    "        \"id\"\n",
    "    ].count()\n",
    "    print(f\"Found {word!r} in {found_in_tweets_cnt} tweets.\")"
   ],
   "metadata": {
    "collapsed": false,
    "pycharm": {
     "name": "#%%\n"
    }
   }
  },
  {
   "cell_type": "code",
   "execution_count": null,
   "outputs": [],
   "source": [],
   "metadata": {
    "collapsed": false,
    "pycharm": {
     "name": "#%%\n"
    }
   }
  }
 ],
 "metadata": {
  "kernelspec": {
   "display_name": "Python 3",
   "language": "python",
   "name": "python3"
  },
  "language_info": {
   "codemirror_mode": {
    "name": "ipython",
    "version": 2
   },
   "file_extension": ".py",
   "mimetype": "text/x-python",
   "name": "python",
   "nbconvert_exporter": "python",
   "pygments_lexer": "ipython2",
   "version": "2.7.6"
  }
 },
 "nbformat": 4,
 "nbformat_minor": 0
}